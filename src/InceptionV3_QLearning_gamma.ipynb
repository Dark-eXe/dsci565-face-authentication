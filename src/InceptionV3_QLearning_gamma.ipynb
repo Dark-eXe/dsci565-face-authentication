{
 "cells": [
  {
   "cell_type": "code",
   "execution_count": 3,
   "id": "9f68c91e",
   "metadata": {},
   "outputs": [],
   "source": [
    "import numpy as np\n",
    "import tensorflow as tf\n",
    "from tensorflow.keras.applications.inception_v3 import InceptionV3, preprocess_input\n",
    "from tensorflow.keras.preprocessing.image import img_to_array, array_to_img\n",
    "from tensorflow.keras.layers import Dense, GlobalAveragePooling2D\n",
    "from tensorflow.keras.models import Model\n",
    "from tensorflow.keras.preprocessing.image import ImageDataGenerator\n",
    "from sklearn.datasets import fetch_lfw_people\n",
    "from sklearn.model_selection import train_test_split\n",
    "import cv2\n",
    "import matplotlib.pyplot as plt"
   ]
  },
  {
   "cell_type": "code",
   "execution_count": 5,
   "id": "5c845cc6",
   "metadata": {},
   "outputs": [],
   "source": [
    "# Load LFW dataset\n",
    "lfw_people = fetch_lfw_people(min_faces_per_person=6, resize=1.0)\n",
    "X = lfw_people.images\n",
    "y = lfw_people.target\n",
    "target_names = lfw_people.target_names\n",
    "\n",
    "# Resize images to 299x299 for InceptionV3\n",
    "def preprocess_images(X):\n",
    "    X_resized = []\n",
    "    for img in X:\n",
    "        img_rgb = np.stack([img] * 3, axis=-1)\n",
    "        img_resized = array_to_img(img_rgb).resize((299, 299))\n",
    "        img_resized = img_to_array(img_resized)\n",
    "        X_resized.append(img_resized)\n",
    "    return preprocess_input(np.array(X_resized))\n",
    "\n",
    "X_resized = preprocess_images(X)\n",
    "X_train, X_test, y_train, y_test = train_test_split(X_resized, y, test_size=0.25, random_state=42)\n"
   ]
  },
  {
   "cell_type": "code",
   "execution_count": 6,
   "id": "4902c48e",
   "metadata": {},
   "outputs": [],
   "source": [
    "# Define Q-learning parameters\n",
    "augmentations = [\n",
    "    {\"rotation_range\": 10},\n",
    "    {\"width_shift_range\": 0.1},\n",
    "    {\"height_shift_range\": 0.1},\n",
    "    {\"horizontal_flip\": True},\n",
    "    {\"zoom_range\": 0.1}\n",
    "]\n",
    "q_table = np.zeros(len(augmentations))\n",
    "learning_rate = 0.1\n",
    "discount_factor = 0.9\n",
    "epsilon = 0.1"
   ]
  },
  {
   "cell_type": "code",
   "execution_count": 9,
   "id": "cef41bdf-64d3-47bc-8282-f55c6ac9b735",
   "metadata": {},
   "outputs": [],
   "source": [
    "# Define Gamma adjustment function\n",
    "def adjust_gamma(image, gamma):\n",
    "    # ensure the value is in 0 to 255, convert it to uint8\n",
    "    image = np.clip(image, 0, 1)  # 如果图像为 [0, 1] 范围\n",
    "    image = (image * 255).astype(\"uint8\")\n",
    "    \n",
    "    inv_gamma = 1.0 / gamma\n",
    "    table = np.array([((i / 255.0) ** inv_gamma) * 255 for i in range(256)]).astype(\"uint8\")\n",
    "    \n",
    "    return cv2.LUT(image, table)\n"
   ]
  },
  {
   "cell_type": "code",
   "execution_count": 10,
   "id": "6f3deb17-a927-415e-9cb4-e3e47c62c5b2",
   "metadata": {},
   "outputs": [],
   "source": [
    "# Generate gamma-adjusted test sets\n",
    "gamma_values = [0.5, 0.8, 1.0, 1.2, 1.5]\n",
    "X_test_gamma = {gamma: np.array([adjust_gamma(img, gamma) for img in X_test]) for gamma in gamma_values}\n"
   ]
  },
  {
   "cell_type": "code",
   "execution_count": 11,
   "id": "020a08c2-728d-416c-b9b8-22ac6e8ec210",
   "metadata": {},
   "outputs": [
    {
     "name": "stdout",
     "output_type": "stream",
     "text": [
      "Downloading data from https://storage.googleapis.com/tensorflow/keras-applications/inception_v3/inception_v3_weights_tf_dim_ordering_tf_kernels_notop.h5\n",
      "87910968/87910968 [==============================] - 2s 0us/step\n"
     ]
    }
   ],
   "source": [
    "# Load InceptionV3 model\n",
    "base_model = InceptionV3(weights=\"imagenet\", include_top=False, input_shape=(299, 299, 3))\n",
    "x = base_model.output\n",
    "x = GlobalAveragePooling2D()(x)\n",
    "x = Dense(1024, activation=\"relu\")(x)\n",
    "predictions = Dense(len(target_names), activation=\"softmax\")(x)\n",
    "model = Model(inputs=base_model.input, outputs=predictions)\n"
   ]
  },
  {
   "cell_type": "code",
   "execution_count": 12,
   "id": "667c0685-4fd3-47f3-93db-fd475bf9bebc",
   "metadata": {},
   "outputs": [],
   "source": [
    "# Freeze base model layers\n",
    "for layer in base_model.layers:\n",
    "    layer.trainable = False\n",
    "\n",
    "model.compile(optimizer=\"adam\", loss=\"sparse_categorical_crossentropy\", metrics=[\"accuracy\"])\n"
   ]
  },
  {
   "cell_type": "code",
   "execution_count": 13,
   "id": "858cff8a-7bda-4100-9e4e-73c96c766880",
   "metadata": {},
   "outputs": [],
   "source": [
    "# Function to select augmentation based on Q-learning\n",
    "def select_augmentation():\n",
    "    if np.random.rand() < epsilon:\n",
    "        return np.random.randint(0, len(augmentations))\n",
    "    else:\n",
    "        return np.argmax(q_table)"
   ]
  },
  {
   "cell_type": "code",
   "execution_count": 14,
   "id": "0fe1cb6c-f46a-465b-b0d2-bd81eb5fba6e",
   "metadata": {},
   "outputs": [],
   "source": [
    "# Update Q-table\n",
    "def update_q_table(augmentation_idx, reward):\n",
    "    best_next_action = np.max(q_table)\n",
    "    q_table[augmentation_idx] += learning_rate * (reward + discount_factor * best_next_action - q_table[augmentation_idx])\n"
   ]
  },
  {
   "cell_type": "code",
   "execution_count": 15,
   "id": "95e3a453-dfba-4e59-9409-ee5be71d16c7",
   "metadata": {},
   "outputs": [],
   "source": [
    "# Adaptive data generator with Q-learning\n",
    "def augmented_generator(X, y, batch_size=32):\n",
    "    while True:\n",
    "        augmentation_idx = select_augmentation()\n",
    "        chosen_augmentation = augmentations[augmentation_idx]\n",
    "        datagen = ImageDataGenerator(preprocessing_function=preprocess_input, **chosen_augmentation)\n",
    "        gen = datagen.flow(X, y, batch_size=batch_size)\n",
    "        \n",
    "        X_batch, y_batch = next(gen)\n",
    "        yield X_batch, y_batch\n",
    "        \n",
    "        reward = evaluate_reward(model, X_batch, y_batch)\n",
    "        update_q_table(augmentation_idx, reward)"
   ]
  },
  {
   "cell_type": "code",
   "execution_count": 16,
   "id": "c8297632-721e-4847-a8ce-8b4225aeca3f",
   "metadata": {},
   "outputs": [],
   "source": [
    "# Evaluate reward based on accuracy\n",
    "def evaluate_reward(model, X_batch, y_batch):\n",
    "    _, accuracy = model.evaluate(X_batch, y_batch, verbose=0)\n",
    "    return accuracy"
   ]
  },
  {
   "cell_type": "code",
   "execution_count": 17,
   "id": "a775a325-62ea-474d-88fc-817c2499ed3a",
   "metadata": {},
   "outputs": [
    {
     "name": "stdout",
     "output_type": "stream",
     "text": [
      "Epoch 1/5\n",
      "127/127 [==============================] - 190s 1s/step - loss: 4.8185 - accuracy: 0.1875 - val_loss: 6.2184 - val_accuracy: 0.0951\n",
      "Epoch 2/5\n",
      "127/127 [==============================] - 193s 2s/step - loss: 5.1957 - accuracy: 0.0625 - val_loss: 6.0026 - val_accuracy: 0.0951\n",
      "Epoch 3/5\n",
      "127/127 [==============================] - 196s 2s/step - loss: 5.2110 - accuracy: 0.0312 - val_loss: 6.1312 - val_accuracy: 0.0951\n",
      "Epoch 4/5\n",
      "127/127 [==============================] - 200s 2s/step - loss: 5.0867 - accuracy: 0.0625 - val_loss: 6.4430 - val_accuracy: 0.0936\n",
      "Epoch 5/5\n",
      "127/127 [==============================] - 189s 1s/step - loss: 4.9197 - accuracy: 0.1250 - val_loss: 6.8977 - val_accuracy: 0.0206\n"
     ]
    }
   ],
   "source": [
    "# Training loop\n",
    "epochs = 5\n",
    "batch_size = 32\n",
    "for epoch in range(epochs):\n",
    "    print(f\"Epoch {epoch + 1}/{epochs}\")\n",
    "    model.fit(\n",
    "        augmented_generator(X_train, y_train, batch_size),\n",
    "        steps_per_epoch=len(X_train) // batch_size,\n",
    "        validation_data=(X_test, y_test),\n",
    "        epochs=1\n",
    "    )"
   ]
  },
  {
   "cell_type": "code",
   "execution_count": 19,
   "id": "0bad6940-dd4a-4dcc-953a-9157423f1954",
   "metadata": {},
   "outputs": [
    {
     "name": "stdout",
     "output_type": "stream",
     "text": [
      "Gamma 0.5: Accuracy = 0.0118\n",
      "Gamma 0.8: Accuracy = 0.0088\n",
      "Gamma 1.0: Accuracy = 0.0096\n",
      "Gamma 1.2: Accuracy = 0.0096\n",
      "Gamma 1.5: Accuracy = 0.0088\n"
     ]
    }
   ],
   "source": [
    "# Evaluate robustness with gamma-adjusted data\n",
    "gamma_accuracies = {}\n",
    "for gamma, X_test_adj in X_test_gamma.items():\n",
    "    _, accuracy = model.evaluate(X_test_adj, y_test, verbose=0)\n",
    "    gamma_accuracies[gamma] = accuracy\n",
    "    print(f\"Gamma {gamma}: Accuracy = {accuracy:.4f}\")"
   ]
  },
  {
   "cell_type": "code",
   "execution_count": 20,
   "id": "c0be7103-3f2f-4e0e-9dbe-c3a555094adc",
   "metadata": {},
   "outputs": [
    {
     "data": {
      "image/png": "[encoded data removed]",
      "text/plain": [
       "<Figure size 800x600 with 1 Axes>"
      ]
     },
     "metadata": {},
     "output_type": "display_data"
    }
   ],
   "source": [
    "# Plot gamma robustness\n",
    "plt.figure(figsize=(8, 6))\n",
    "plt.plot(gamma_accuracies.keys(), gamma_accuracies.values(), marker=\"o\")\n",
    "plt.title(\"Gamma Robustness Evaluation\")\n",
    "plt.xlabel(\"Gamma Value\")\n",
    "plt.ylabel(\"Accuracy\")\n",
    "plt.grid()\n",
    "plt.show()"
   ]
  },
  {
   "cell_type": "code",
   "execution_count": null,
   "id": "a208565d-2269-42a0-a3af-1b1e361ba7b2",
   "metadata": {},
   "outputs": [],
   "source": []
  }
 ],
 "metadata": {
  "kernelspec": {
   "display_name": "Python (tf_env)",
   "language": "python",
   "name": "tf_env"
  },
  "language_info": {
   "codemirror_mode": {
    "name": "ipython",
    "version": 3
   },
   "file_extension": ".py",
   "mimetype": "text/x-python",
   "name": "python",
   "nbconvert_exporter": "python",
   "pygments_lexer": "ipython3",
   "version": "3.8.15"
  }
 },
 "nbformat": 4,
 "nbformat_minor": 5
}
