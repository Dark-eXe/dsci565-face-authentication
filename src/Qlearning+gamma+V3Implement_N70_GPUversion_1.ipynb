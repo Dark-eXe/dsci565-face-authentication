{
 "cells": [
  {
   "cell_type": "code",
   "execution_count": 1,
   "metadata": {},
   "outputs": [],
   "source": [
    "\"\"\"\n",
    "numpy-1.26.4\n",
    "scikit-learn-1.5.2\n",
    "tensorflow-2.18.0\n",
    "timm-1.0.11\n",
    "huggingface_hub-0.26.2\n",
    "\n",
    "@misc{szegedy2016inceptionv4,\n",
    "      title={Inception-v4, Inception-ResNet and the Impact of Residual Connections on Learning}, \n",
    "      author={Christian Szegedy and Sergey Ioffe and Vincent Vanhoucke and Alex Alemi},\n",
    "      year={2016},\n",
    "      eprint={1602.07261},\n",
    "      archivePrefix={arXiv},\n",
    "      primaryClass={cs.CV}\n",
    "}\n",
    "\n",
    "\"\"\"\n",
    "import tensorflow as tf\n",
    "from tensorflow.keras.applications.inception_v3 import preprocess_input\n",
    "from tensorflow.keras.preprocessing.image import img_to_array, array_to_img\n",
    "from sklearn.datasets import fetch_lfw_people\n",
    "import timm\n",
    "import torch\n",
    "import torch.nn as nn\n",
    "import torch.optim as optim\n",
    "from torch.utils.data import DataLoader, TensorDataset, Dataset\n",
    "from sklearn.model_selection import train_test_split\n",
    "from torchmetrics.classification import Accuracy\n",
    "import numpy as np\n",
    "from sklearn.metrics import confusion_matrix, ConfusionMatrixDisplay\n",
    "import matplotlib.pyplot as plt\n",
    "import seaborn as sns\n",
    "import time\n",
    "from scipy.ndimage import rotate\n",
    "from skimage.exposure import rescale_intensity\n",
    "from skimage import exposure\n",
    "from torchvision.transforms import functional as TF"
   ]
  },
  {
   "cell_type": "code",
   "execution_count": 2,
   "metadata": {},
   "outputs": [
    {
     "name": "stdout",
     "output_type": "stream",
     "text": [
      "GPU is available: NVIDIA GeForce RTX 4090\n"
     ]
    }
   ],
   "source": [
    "if torch.cuda.is_available():\n",
    "    device = torch.device(\"cuda\")\n",
    "    print(\"GPU is available:\", torch.cuda.get_device_name(0))\n",
    "else:\n",
    "    device = torch.device(\"cpu\")\n",
    "    print(\"GPU not available, using CPU\")\n",
    "\n",
    "torch.cuda.empty_cache()"
   ]
  },
  {
   "cell_type": "markdown",
   "metadata": {},
   "source": [
    "Inplementation of InceptionV3+Qlearning+gamma code of LFW"
   ]
  },
  {
   "cell_type": "code",
   "execution_count": 3,
   "metadata": {},
   "outputs": [],
   "source": [
    "# the original paper choose 250 images from LFW in some unknown ways\n",
    "# # Function to filter and sample dataset\n",
    "# def filter_lfw_people(min_faces_per_person, samples_per_class):\n",
    "#     lfw_people = fetch_lfw_people(min_faces_per_person=min_faces_per_person, resize=1.0)\n",
    "#     X = lfw_people.images\n",
    "#     y = lfw_people.target\n",
    "#     target_names = lfw_people.target_names\n",
    "#     k = len(np.unique(y))\n",
    "\n",
    "#     filtered_X = []\n",
    "#     filtered_y = []\n",
    "#     for class_label in range(k):\n",
    "#         class_indices = np.where(y == class_label)[0]\n",
    "#         selected_indices = np.random.choice(class_indices, size=min(samples_per_class, len(class_indices)), replace=False)\n",
    "#         filtered_X.extend(X[selected_indices])\n",
    "#         filtered_y.extend(y[selected_indices])\n",
    "\n",
    "#     filtered_X = np.array(filtered_X)\n",
    "#     filtered_y = np.array(filtered_y)\n",
    "#     return filtered_X, filtered_y, target_names\n",
    "\n",
    "# # Filter dataset\n",
    "# X, y, target_names = filter_lfw_people(min_faces_per_person=30, samples_per_class=6)\n",
    "# k = len(np.unique(y))\n",
    "# print(f\"Filtered dataset shape: {X.shape}, Number of classes: {k}\")\n",
    "lfw_people = fetch_lfw_people(min_faces_per_person=70, resize=1.0)  # Load full size image\n",
    "X = lfw_people.images\n",
    "y = lfw_people.target\n",
    "k = len(np.unique(y))\n",
    "target_names = lfw_people.target_names"
   ]
  },
  {
   "cell_type": "code",
   "execution_count": 4,
   "metadata": {},
   "outputs": [],
   "source": [
    "# Dataset with on-the-fly augmentation\n",
    "class AugmentedDataset(Dataset):\n",
    "    def __init__(self, X, y, gamma_values, rotations):\n",
    "        self.X = X\n",
    "        self.y = y\n",
    "        self.gamma_values = gamma_values\n",
    "        self.rotations = rotations\n",
    "\n",
    "    def __len__(self):\n",
    "        return len(self.X)\n",
    "\n",
    "    def __getitem__(self, idx):\n",
    "        img = self.X[idx]\n",
    "        label = self.y[idx]\n",
    "\n",
    "        # Random rotation\n",
    "        angle = int(np.random.choice(self.rotations))  # Ensure angle is a Python int\n",
    "        img_tensor = torch.tensor(img, dtype=torch.float32).unsqueeze(0)  # Add channel dimension\n",
    "        img_rotated = TF.rotate(img_tensor, angle, interpolation=TF.InterpolationMode.BILINEAR).clamp(0, 1)\n",
    "\n",
    "        # Random gamma correction\n",
    "        gamma = np.random.choice(self.gamma_values)\n",
    "        img_augmented = img_rotated ** gamma\n",
    "\n",
    "        # Convert to RGB and preprocess\n",
    "        img_rgb = torch.cat([img_augmented] * 3, dim=0)  # Convert grayscale to RGB\n",
    "        img_resized = TF.resize(img_rgb, [299, 299])\n",
    "\n",
    "        return img_resized, label"
   ]
  },
  {
   "cell_type": "code",
   "execution_count": 5,
   "metadata": {},
   "outputs": [],
   "source": [
    "# Augmentation parameters\n",
    "gamma_values = [0.05, 0.1, 0.2, 0.4, 0.6, 1, 1.5, 1.8, 2, 3, 4, 6]\n",
    "rotations = list(range(0, 360, 15))"
   ]
  },
  {
   "cell_type": "code",
   "execution_count": 6,
   "metadata": {},
   "outputs": [],
   "source": [
    "# Create dataset and DataLoader\n",
    "train_X, val_X, train_y, val_y = train_test_split(X, y, test_size=0.2, random_state=42)\n",
    "train_dataset = AugmentedDataset(train_X, train_y, gamma_values, rotations)\n",
    "val_dataset = AugmentedDataset(val_X, val_y, gamma_values, rotations)\n",
    "\n",
    "train_loader = DataLoader(train_dataset, batch_size=32, shuffle=True)\n",
    "val_loader = DataLoader(val_dataset, batch_size=32, shuffle=False)"
   ]
  },
  {
   "cell_type": "code",
   "execution_count": 7,
   "metadata": {},
   "outputs": [],
   "source": [
    "# Q-learning parameters \n",
    "gamma_discount = 0.9\n",
    "immediate_reward = 0.3\n",
    "# The original converge points in paper\n",
    "total_iterations = 16000\n",
    "loss_threshold = 1.76\n",
    "\n",
    "# Define combined loss function\n",
    "class QLearningLoss(nn.Module):\n",
    "    def __init__(self, gamma_discount):\n",
    "        super(QLearningLoss, self).__init__()\n",
    "        self.gamma_discount = gamma_discount\n",
    "\n",
    "    def forward(self, q_current, q_next, reward, target_action):\n",
    "        q_target = reward + self.gamma_discount * torch.max(q_next, dim=1)[0]\n",
    "        return (q_current.gather(1, target_action.unsqueeze(1)) - q_target.unsqueeze(1)).pow(2).mean()\n",
    "\n",
    "# Define combined model\n",
    "class InceptionV3_Transfer(nn.Module):\n",
    "    def __init__(self, base_model, num_classes):\n",
    "        super(InceptionV3_Transfer, self).__init__()\n",
    "        self.base_model = base_model\n",
    "        self.fc = nn.Linear(base_model.num_features, num_classes)  # Fully connected layer for classification\n",
    "\n",
    "    def forward(self, x):\n",
    "        features = self.base_model(x)\n",
    "        logits = self.fc(features)\n",
    "        return logits, features  # Logits for classification, features for Q-values"
   ]
  },
  {
   "cell_type": "code",
   "execution_count": 8,
   "metadata": {},
   "outputs": [],
   "source": [
    "# Initialize model and optimizer\n",
    "base_model = timm.create_model('inception_v3', pretrained=True, num_classes=0)\n",
    "model = InceptionV3_Transfer(base_model, k).to(device)\n",
    "\n",
    "optimizer = optim.Adam(model.parameters(), lr=0.001)\n",
    "criterion_ce = nn.CrossEntropyLoss()\n",
    "criterion_q = QLearningLoss(gamma_discount)\n"
   ]
  },
  {
   "cell_type": "code",
   "execution_count": 9,
   "metadata": {},
   "outputs": [
    {
     "name": "stdout",
     "output_type": "stream",
     "text": [
      "Epoch 1/10\n",
      "Iteration: 33, Combined Loss: 3.0479, Accuracy: 42.52%\n",
      "Epoch 2/10\n",
      "Iteration: 66, Combined Loss: 1.8071, Accuracy: 60.87%\n",
      "Epoch 3/10\n",
      "Iteration: 99, Combined Loss: 1.4510, Accuracy: 66.60%\n",
      "Epoch 4/10\n",
      "Iteration: 132, Combined Loss: 1.1471, Accuracy: 72.52%\n",
      "Epoch 5/10\n",
      "Iteration: 165, Combined Loss: 1.0800, Accuracy: 74.76%\n",
      "Epoch 6/10\n",
      "Iteration: 198, Combined Loss: 0.9721, Accuracy: 77.77%\n",
      "Epoch 7/10\n",
      "Iteration: 231, Combined Loss: 0.7730, Accuracy: 82.62%\n",
      "Epoch 8/10\n",
      "Iteration: 264, Combined Loss: 0.6386, Accuracy: 84.85%\n",
      "Epoch 9/10\n",
      "Iteration: 297, Combined Loss: 0.7679, Accuracy: 82.91%\n",
      "Epoch 10/10\n",
      "Iteration: 330, Combined Loss: 0.6444, Accuracy: 85.24%\n",
      "Training complete!\n"
     ]
    }
   ],
   "source": [
    "epochs = 10  # Number of epochs\n",
    "iteration = 0  # Total iteration count\n",
    "max_iterations = total_iterations  # Maximum iterations\n",
    "loss_threshold = 1.76  # Early stopping loss threshold but seems not work for unknown loss function in original paper\n",
    "\n",
    "for epoch in range(epochs):\n",
    "    model.train()\n",
    "    train_loss = 0.0\n",
    "    correct = 0\n",
    "    total = 0\n",
    "\n",
    "    print(f\"Epoch {epoch + 1}/{epochs}\")\n",
    "    for i, (inputs, labels) in enumerate(train_loader):\n",
    "        if iteration >= max_iterations:\n",
    "            print(\"Reached maximum iterations. Stopping training.\")\n",
    "            break\n",
    "\n",
    "        # Move data to device\n",
    "        inputs, labels = inputs.to(device), labels.to(device)\n",
    "        optimizer.zero_grad()\n",
    "\n",
    "        # Forward pass\n",
    "        logits, features = model(inputs)\n",
    "        q_values = features  # Use features as Q-values\n",
    "\n",
    "        # Calculate Q-learning loss\n",
    "        q_next = q_values.detach()  # Detach to prevent gradients\n",
    "        q_loss = criterion_q(q_values, q_next, immediate_reward, labels)\n",
    "\n",
    "        # Calculate cross-entropy loss\n",
    "        ce_loss = criterion_ce(logits, labels)\n",
    "\n",
    "        # Combine losses\n",
    "        loss = ce_loss + q_loss\n",
    "\n",
    "        # Backward pass and optimization\n",
    "        loss.backward()\n",
    "        optimizer.step()\n",
    "\n",
    "        train_loss += loss.item()\n",
    "        _, predicted = torch.max(logits, 1)\n",
    "        correct += (predicted == labels).sum().item()\n",
    "        total += labels.size(0)\n",
    "        iteration += 1  # Increment iteration count\n",
    "\n",
    "    avg_loss = train_loss / len(train_loader)\n",
    "    accuracy = correct / total * 100\n",
    "    print(f\"Iteration: {iteration}, Combined Loss: {avg_loss:.4f}, Accuracy: {accuracy:.2f}%\")\n",
    "\n",
    "    # # Early stopping\n",
    "    # if avg_loss < loss_threshold and iteration >= 330:  # Ensure enough iterations for stability\n",
    "    #     print(f\"Stopping early as loss dropped below {loss_threshold}.\")\n",
    "    #     break\n",
    "\n",
    "print(\"Training complete!\")\n"
   ]
  },
  {
   "cell_type": "code",
   "execution_count": 10,
   "metadata": {},
   "outputs": [],
   "source": [
    "# Validation and Gamma Performance\n",
    "gamma_values = [0.05, 0.1, 0.2, 0.4, 0.6, 1, 1.5, 1.8, 2, 3, 4, 6]\n",
    "gamma_acc = {}\n",
    "\n",
    "model.eval()\n",
    "for gamma in gamma_values:\n",
    "    val_correct = 0\n",
    "    val_total = 0\n",
    "    with torch.no_grad():\n",
    "        for inputs, labels in val_loader:\n",
    "            # Apply gamma correction\n",
    "            inputs = torch.tensor(np.array([img.cpu().numpy() ** gamma for img in inputs]), device=device)\n",
    "            labels = labels.to(device)  # Move labels to the same device as inputs\n",
    "            logits, _ = model(inputs)  # Unpack logits and features\n",
    "            _, predicted = torch.max(logits, 1)  # Use logits for predictions\n",
    "            val_correct += (predicted == labels).sum().item()\n",
    "            val_total += labels.size(0)\n",
    "    gamma_acc[gamma] = val_correct / val_total * 100"
   ]
  },
  {
   "cell_type": "code",
   "execution_count": 11,
   "metadata": {},
   "outputs": [
    {
     "data": {
      "image/png": "[encoded data removed]",
      "text/plain": [
       "<Figure size 1000x600 with 1 Axes>"
      ]
     },
     "metadata": {},
     "output_type": "display_data"
    }
   ],
   "source": [
    "# Treat gamma_values as evenly spaced categories\n",
    "gamma_labels = [str(gamma) for gamma in gamma_values]\n",
    "x_positions = range(len(gamma_labels))  # Evenly spaced positions for the labels\n",
    "\n",
    "# Plot performance\n",
    "plt.figure(figsize=(10, 6))\n",
    "plt.plot(x_positions, list(gamma_acc.values()), marker='o')  # Use positions for x-axis\n",
    "plt.xticks(x_positions, gamma_labels)  # Set the gamma values as labels\n",
    "plt.xlabel('Gamma Value (Categories)')\n",
    "plt.ylabel('Validation Accuracy (%)')\n",
    "plt.title('Validation Accuracy Across Different Gamma Values')\n",
    "plt.grid(axis='y', linestyle='-', alpha=0.7)\n",
    "plt.show()"
   ]
  },
  {
   "cell_type": "code",
   "execution_count": null,
   "metadata": {},
   "outputs": [],
   "source": []
  }
 ],
 "metadata": {
  "kernelspec": {
   "display_name": "Python (temp_env)",
   "language": "python",
   "name": "temp_env"
  },
  "language_info": {
   "codemirror_mode": {
    "name": "ipython",
    "version": 3
   },
   "file_extension": ".py",
   "mimetype": "text/x-python",
   "name": "python",
   "nbconvert_exporter": "python",
   "pygments_lexer": "ipython3",
   "version": "3.10.15"
  }
 },
 "nbformat": 4,
 "nbformat_minor": 4
}
