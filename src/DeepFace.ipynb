{
 "cells": [
  {
   "cell_type": "markdown",
   "id": "4bab740a-ee87-408e-81ad-f248b8734f68",
   "metadata": {},
   "source": [
    "# Deep Face Implementation"
   ]
  },
  {
   "cell_type": "code",
   "execution_count": 1,
   "id": "24bd60d1-90ac-4d85-9a1d-04713cd6f565",
   "metadata": {},
   "outputs": [],
   "source": [
    "# imports\n",
    "import numpy as np\n",
    "import pandas as pd\n",
    "from matplotlib import pyplot as plt\n",
    "import os\n",
    "import cv2\n",
    "from ast import literal_eval\n",
    "\n",
    "import keras\n",
    "import tensorflow as tf"
   ]
  },
  {
   "cell_type": "code",
   "execution_count": 2,
   "id": "c7bf7b88-c9d5-49f5-919c-e4b1a359e3c0",
   "metadata": {},
   "outputs": [],
   "source": [
    "from deepface import DeepFace"
   ]
  },
  {
   "cell_type": "code",
   "execution_count": 3,
   "id": "b0ef6439-35b8-4258-b979-356e0a03ca79",
   "metadata": {},
   "outputs": [],
   "source": [
    "# file paths\n",
    "path = os.getcwd()\n",
    "path = path[:-4]\n",
    "data_dir = path + \"/data/lfw-deepfunneled\""
   ]
  },
  {
   "cell_type": "code",
   "execution_count": 4,
   "id": "3e941842-dcc1-4418-8fee-083967a10f69",
   "metadata": {},
   "outputs": [],
   "source": [
    "matchPairsTrain, mismatchPairsTrain = pd.read_csv(path + \"/data/matchpairsDevTrain.csv\"), pd.read_csv(path + \"/data/mismatchpairsDevTrain.csv\")\n",
    "matchPairsTest, mismatchPairsTest = pd.read_csv(path + \"/data/matchpairsDevTest.csv\"), pd.read_csv(path + \"/data/mismatchpairsDevTest.csv\")"
   ]
  },
  {
   "cell_type": "code",
   "execution_count": 5,
   "id": "c749ded7-0623-4d86-9e74-623d4ff2c155",
   "metadata": {},
   "outputs": [],
   "source": [
    "def getImg(name, num):\n",
    "    imgPath = data_dir + '/' + name + '/' + name + '_' +  \"{:04d}\".format(num) + '.jpg'\n",
    "    img = cv2.imread(imgPath)\n",
    "    img = cv2.resize(img, (299, 299))\n",
    "    return img\n",
    "\n",
    "def matchPairs(X):\n",
    "    df = X.copy(deep=False)\n",
    "    imageCol1, imageCol2 = [], []\n",
    "    #facenetCol = []\n",
    "    for _ , person in df.iterrows():\n",
    "        name = person[\"name\"]\n",
    "        img1, img2 = person.imagenum1, person.imagenum2\n",
    "        img1, img2 = getImg(name, img1), getImg(name, img2)\n",
    "        #facenet_result = DeepFace.verify(img1, img2, model_name='Facenet')\n",
    "        imageCol1.append(img1)\n",
    "        imageCol2.append(img2)\n",
    "        #facenetCol.append(facenet_result['verified'])\n",
    "    df[\"image1\"] = imageCol1\n",
    "    df[\"image2\"] = imageCol2\n",
    "    #df[\"Facenet\"] = facenetcol\n",
    "    return df\n",
    "\n",
    "def mismatchPairs(X):\n",
    "    df = X.copy(deep=False)\n",
    "    imageCol1, imageCol2 = [], []\n",
    "    #facenetCol = []\n",
    "    for _ , person in df.iterrows():\n",
    "        name, name1 = person[\"name\"], person[\"name.1\"]\n",
    "        img1, img2 = person.imagenum1, person.imagenum2\n",
    "        img1, img2 = getImg(name, img1), getImg(name1, img2)\n",
    "        #facenet_result = DeepFace.verify(img1, img2, model_name='Facenet')\n",
    "        imageCol1.append(img1)\n",
    "        imageCol2.append(img2)\n",
    "        #facenetCol.append(facenet_result['verified'])\n",
    "    df[\"image1\"] = imageCol1\n",
    "    df[\"image2\"] = imageCol2\n",
    "    #df[\"Facenet\"] = facenetcol\n",
    "    return df"
   ]
  },
  {
   "cell_type": "code",
   "execution_count": 6,
   "id": "01b4abb4-7a9c-489d-84b8-b8d8cdec1408",
   "metadata": {},
   "outputs": [],
   "source": [
    "matchPairsTrain = matchPairs(matchPairsTrain)\n",
    "matchPairsTest = matchPairs(matchPairsTest)\n",
    "mismatchPairsTrain = mismatchPairs(mismatchPairsTrain)\n",
    "mismatchPairsTest = mismatchPairs(mismatchPairsTest)"
   ]
  },
  {
   "cell_type": "code",
   "execution_count": 7,
   "id": "ff4702bb-6cd8-4507-be96-9efe1618be5c",
   "metadata": {},
   "outputs": [
    {
     "data": {
      "text/html": [
       "<div>\n",
       "<style scoped>\n",
       "    .dataframe tbody tr th:only-of-type {\n",
       "        vertical-align: middle;\n",
       "    }\n",
       "\n",
       "    .dataframe tbody tr th {\n",
       "        vertical-align: top;\n",
       "    }\n",
       "\n",
       "    .dataframe thead th {\n",
       "        text-align: right;\n",
       "    }\n",
       "</style>\n",
       "<table border=\"1\" class=\"dataframe\">\n",
       "  <thead>\n",
       "    <tr style=\"text-align: right;\">\n",
       "      <th></th>\n",
       "      <th>name</th>\n",
       "      <th>imagenum1</th>\n",
       "      <th>imagenum2</th>\n",
       "      <th>image1</th>\n",
       "      <th>image2</th>\n",
       "    </tr>\n",
       "  </thead>\n",
       "  <tbody>\n",
       "    <tr>\n",
       "      <th>495</th>\n",
       "      <td>Winona_Ryder</td>\n",
       "      <td>6</td>\n",
       "      <td>15</td>\n",
       "      <td>[[[8, 3, 0], [8, 3, 0], [7, 2, 0], [7, 2, 0], ...</td>\n",
       "      <td>[[[0, 0, 3], [0, 0, 3], [0, 0, 3], [0, 0, 3], ...</td>\n",
       "    </tr>\n",
       "    <tr>\n",
       "      <th>496</th>\n",
       "      <td>Winona_Ryder</td>\n",
       "      <td>19</td>\n",
       "      <td>21</td>\n",
       "      <td>[[[0, 0, 0], [0, 0, 0], [0, 0, 0], [0, 0, 0], ...</td>\n",
       "      <td>[[[0, 0, 6], [0, 0, 4], [0, 0, 3], [0, 0, 2], ...</td>\n",
       "    </tr>\n",
       "    <tr>\n",
       "      <th>497</th>\n",
       "      <td>Yevgeny_Kafelnikov</td>\n",
       "      <td>3</td>\n",
       "      <td>4</td>\n",
       "      <td>[[[0, 0, 0], [0, 0, 0], [0, 0, 0], [0, 0, 0], ...</td>\n",
       "      <td>[[[0, 0, 0], [0, 0, 0], [0, 0, 0], [0, 0, 0], ...</td>\n",
       "    </tr>\n",
       "    <tr>\n",
       "      <th>498</th>\n",
       "      <td>Yoriko_Kawaguchi</td>\n",
       "      <td>3</td>\n",
       "      <td>10</td>\n",
       "      <td>[[[247, 221, 205], [247, 221, 205], [247, 221,...</td>\n",
       "      <td>[[[0, 0, 4], [0, 0, 3], [0, 0, 1], [1, 0, 0], ...</td>\n",
       "    </tr>\n",
       "    <tr>\n",
       "      <th>499</th>\n",
       "      <td>Zoran_Djindjic</td>\n",
       "      <td>3</td>\n",
       "      <td>4</td>\n",
       "      <td>[[[0, 0, 0], [0, 0, 0], [0, 0, 0], [0, 0, 0], ...</td>\n",
       "      <td>[[[0, 0, 0], [0, 0, 0], [0, 0, 1], [0, 0, 1], ...</td>\n",
       "    </tr>\n",
       "  </tbody>\n",
       "</table>\n",
       "</div>"
      ],
      "text/plain": [
       "                   name  imagenum1  imagenum2  \\\n",
       "495        Winona_Ryder          6         15   \n",
       "496        Winona_Ryder         19         21   \n",
       "497  Yevgeny_Kafelnikov          3          4   \n",
       "498    Yoriko_Kawaguchi          3         10   \n",
       "499      Zoran_Djindjic          3          4   \n",
       "\n",
       "                                                image1  \\\n",
       "495  [[[8, 3, 0], [8, 3, 0], [7, 2, 0], [7, 2, 0], ...   \n",
       "496  [[[0, 0, 0], [0, 0, 0], [0, 0, 0], [0, 0, 0], ...   \n",
       "497  [[[0, 0, 0], [0, 0, 0], [0, 0, 0], [0, 0, 0], ...   \n",
       "498  [[[247, 221, 205], [247, 221, 205], [247, 221,...   \n",
       "499  [[[0, 0, 0], [0, 0, 0], [0, 0, 0], [0, 0, 0], ...   \n",
       "\n",
       "                                                image2  \n",
       "495  [[[0, 0, 3], [0, 0, 3], [0, 0, 3], [0, 0, 3], ...  \n",
       "496  [[[0, 0, 6], [0, 0, 4], [0, 0, 3], [0, 0, 2], ...  \n",
       "497  [[[0, 0, 0], [0, 0, 0], [0, 0, 0], [0, 0, 0], ...  \n",
       "498  [[[0, 0, 4], [0, 0, 3], [0, 0, 1], [1, 0, 0], ...  \n",
       "499  [[[0, 0, 0], [0, 0, 0], [0, 0, 1], [0, 0, 1], ...  "
      ]
     },
     "execution_count": 7,
     "metadata": {},
     "output_type": "execute_result"
    }
   ],
   "source": [
    "matchPairsTest.tail()"
   ]
  },
  {
   "cell_type": "code",
   "execution_count": 8,
   "id": "dde17db1-05c3-4252-9e34-a57711b6167a",
   "metadata": {},
   "outputs": [
    {
     "data": {
      "text/html": [
       "<div>\n",
       "<style scoped>\n",
       "    .dataframe tbody tr th:only-of-type {\n",
       "        vertical-align: middle;\n",
       "    }\n",
       "\n",
       "    .dataframe tbody tr th {\n",
       "        vertical-align: top;\n",
       "    }\n",
       "\n",
       "    .dataframe thead th {\n",
       "        text-align: right;\n",
       "    }\n",
       "</style>\n",
       "<table border=\"1\" class=\"dataframe\">\n",
       "  <thead>\n",
       "    <tr style=\"text-align: right;\">\n",
       "      <th></th>\n",
       "      <th>name</th>\n",
       "      <th>imagenum1</th>\n",
       "      <th>name.1</th>\n",
       "      <th>imagenum2</th>\n",
       "      <th>image1</th>\n",
       "      <th>image2</th>\n",
       "    </tr>\n",
       "  </thead>\n",
       "  <tbody>\n",
       "    <tr>\n",
       "      <th>495</th>\n",
       "      <td>Susan_Whelan</td>\n",
       "      <td>1</td>\n",
       "      <td>Wolfgang_Schneiderhan</td>\n",
       "      <td>1</td>\n",
       "      <td>[[[0, 0, 0], [0, 0, 0], [0, 0, 0], [0, 0, 0], ...</td>\n",
       "      <td>[[[0, 0, 0], [0, 0, 0], [0, 0, 0], [0, 0, 0], ...</td>\n",
       "    </tr>\n",
       "    <tr>\n",
       "      <th>496</th>\n",
       "      <td>Takeo_Fukui</td>\n",
       "      <td>1</td>\n",
       "      <td>Will_Ofenheusle</td>\n",
       "      <td>1</td>\n",
       "      <td>[[[0, 0, 0], [0, 0, 0], [0, 0, 0], [0, 0, 0], ...</td>\n",
       "      <td>[[[2, 0, 0], [2, 0, 0], [2, 0, 0], [2, 0, 0], ...</td>\n",
       "    </tr>\n",
       "    <tr>\n",
       "      <th>497</th>\n",
       "      <td>Tamara_Mowry</td>\n",
       "      <td>1</td>\n",
       "      <td>Zach_Parise</td>\n",
       "      <td>1</td>\n",
       "      <td>[[[0, 2, 0], [146, 157, 155], [196, 210, 208],...</td>\n",
       "      <td>[[[0, 0, 0], [0, 0, 0], [0, 0, 0], [0, 0, 0], ...</td>\n",
       "    </tr>\n",
       "    <tr>\n",
       "      <th>498</th>\n",
       "      <td>Tatiana_Kennedy_Schlossberg</td>\n",
       "      <td>1</td>\n",
       "      <td>Thomas_Watjen</td>\n",
       "      <td>1</td>\n",
       "      <td>[[[0, 2, 0], [0, 1, 0], [1, 0, 0], [3, 0, 0], ...</td>\n",
       "      <td>[[[5, 0, 0], [5, 0, 0], [5, 0, 0], [5, 0, 0], ...</td>\n",
       "    </tr>\n",
       "    <tr>\n",
       "      <th>499</th>\n",
       "      <td>Todd_Petit</td>\n",
       "      <td>1</td>\n",
       "      <td>Vicente_Fernandez</td>\n",
       "      <td>3</td>\n",
       "      <td>[[[0, 0, 0], [0, 0, 0], [0, 0, 0], [0, 0, 0], ...</td>\n",
       "      <td>[[[0, 0, 0], [0, 0, 0], [0, 0, 0], [0, 0, 0], ...</td>\n",
       "    </tr>\n",
       "  </tbody>\n",
       "</table>\n",
       "</div>"
      ],
      "text/plain": [
       "                            name  imagenum1                 name.1  imagenum2  \\\n",
       "495                 Susan_Whelan          1  Wolfgang_Schneiderhan          1   \n",
       "496                  Takeo_Fukui          1        Will_Ofenheusle          1   \n",
       "497                 Tamara_Mowry          1            Zach_Parise          1   \n",
       "498  Tatiana_Kennedy_Schlossberg          1          Thomas_Watjen          1   \n",
       "499                   Todd_Petit          1      Vicente_Fernandez          3   \n",
       "\n",
       "                                                image1  \\\n",
       "495  [[[0, 0, 0], [0, 0, 0], [0, 0, 0], [0, 0, 0], ...   \n",
       "496  [[[0, 0, 0], [0, 0, 0], [0, 0, 0], [0, 0, 0], ...   \n",
       "497  [[[0, 2, 0], [146, 157, 155], [196, 210, 208],...   \n",
       "498  [[[0, 2, 0], [0, 1, 0], [1, 0, 0], [3, 0, 0], ...   \n",
       "499  [[[0, 0, 0], [0, 0, 0], [0, 0, 0], [0, 0, 0], ...   \n",
       "\n",
       "                                                image2  \n",
       "495  [[[0, 0, 0], [0, 0, 0], [0, 0, 0], [0, 0, 0], ...  \n",
       "496  [[[2, 0, 0], [2, 0, 0], [2, 0, 0], [2, 0, 0], ...  \n",
       "497  [[[0, 0, 0], [0, 0, 0], [0, 0, 0], [0, 0, 0], ...  \n",
       "498  [[[5, 0, 0], [5, 0, 0], [5, 0, 0], [5, 0, 0], ...  \n",
       "499  [[[0, 0, 0], [0, 0, 0], [0, 0, 0], [0, 0, 0], ...  "
      ]
     },
     "execution_count": 8,
     "metadata": {},
     "output_type": "execute_result"
    }
   ],
   "source": [
    "mismatchPairsTest.tail()"
   ]
  },
  {
   "cell_type": "code",
   "execution_count": 9,
   "id": "453324ce-fa9f-40e4-a657-b45aa1e0e323",
   "metadata": {},
   "outputs": [
    {
     "data": {
      "text/plain": [
       "name                                              Abdullah_Gul\n",
       "imagenum1                                                   13\n",
       "imagenum2                                                   14\n",
       "image1       [[[0, 0, 0], [0, 0, 0], [0, 0, 0], [0, 0, 0], ...\n",
       "image2       [[[12, 52, 94], [10, 50, 92], [9, 48, 90], [8,...\n",
       "Name: 0, dtype: object"
      ]
     },
     "execution_count": 9,
     "metadata": {},
     "output_type": "execute_result"
    }
   ],
   "source": [
    "match_example = matchPairsTest.iloc[0]\n",
    "match_example"
   ]
  },
  {
   "cell_type": "code",
   "execution_count": 10,
   "id": "bcec9de8-4b00-4434-83ff-4ea985b4b5c6",
   "metadata": {},
   "outputs": [
    {
     "data": {
      "text/plain": [
       "name                                                  AJ_Lamas\n",
       "imagenum1                                                    1\n",
       "name.1                                             Zach_Safrin\n",
       "imagenum2                                                    1\n",
       "image1       [[[7, 2, 1], [6, 1, 0], [10, 4, 5], [8, 4, 4],...\n",
       "image2       [[[0, 2, 0], [0, 2, 0], [0, 2, 0], [0, 2, 0], ...\n",
       "Name: 0, dtype: object"
      ]
     },
     "execution_count": 10,
     "metadata": {},
     "output_type": "execute_result"
    }
   ],
   "source": [
    "mismatch_example = mismatchPairsTest.iloc[0]\n",
    "mismatch_example"
   ]
  },
  {
   "cell_type": "code",
   "execution_count": 11,
   "id": "e1274c68-b2ea-4e31-86e9-ab43fda47a42",
   "metadata": {},
   "outputs": [],
   "source": [
    "result = DeepFace.verify(\n",
    "  match_example.image1,\n",
    "  match_example.image2,\n",
    "    model_name=\"Facenet\"\n",
    ")"
   ]
  },
  {
   "cell_type": "code",
   "execution_count": 12,
   "id": "aa730b80-df5c-4e1d-9dc9-da6c99a721ea",
   "metadata": {},
   "outputs": [
    {
     "data": {
      "text/plain": [
       "{'verified': True,\n",
       " 'distance': 0.13906303002911458,\n",
       " 'threshold': 0.4,\n",
       " 'model': 'Facenet',\n",
       " 'detector_backend': 'opencv',\n",
       " 'similarity_metric': 'cosine',\n",
       " 'facial_areas': {'img1': {'x': 77,\n",
       "   'y': 78,\n",
       "   'w': 144,\n",
       "   'h': 144,\n",
       "   'left_eye': (177, 133),\n",
       "   'right_eye': (122, 133)},\n",
       "  'img2': {'x': 76,\n",
       "   'y': 79,\n",
       "   'w': 147,\n",
       "   'h': 147,\n",
       "   'left_eye': (177, 133),\n",
       "   'right_eye': (121, 133)}},\n",
       " 'time': 1.07}"
      ]
     },
     "execution_count": 12,
     "metadata": {},
     "output_type": "execute_result"
    }
   ],
   "source": [
    "result"
   ]
  },
  {
   "cell_type": "code",
   "execution_count": 13,
   "id": "cbaa6336-ac82-4a44-b8b7-185fde51a064",
   "metadata": {},
   "outputs": [],
   "source": [
    "result = DeepFace.verify(\n",
    "  mismatch_example.image1,\n",
    "  mismatch_example.image2,\n",
    "    model_name=\"Facenet\"\n",
    ")"
   ]
  },
  {
   "cell_type": "code",
   "execution_count": 14,
   "id": "7228fbc8-73d4-4549-81d4-ea7b5c3f9e9f",
   "metadata": {},
   "outputs": [
    {
     "data": {
      "text/plain": [
       "{'verified': False,\n",
       " 'distance': 0.7437982107089207,\n",
       " 'threshold': 0.4,\n",
       " 'model': 'Facenet',\n",
       " 'detector_backend': 'opencv',\n",
       " 'similarity_metric': 'cosine',\n",
       " 'facial_areas': {'img1': {'x': 75,\n",
       "   'y': 77,\n",
       "   'w': 146,\n",
       "   'h': 146,\n",
       "   'left_eye': None,\n",
       "   'right_eye': None},\n",
       "  'img2': {'x': 81,\n",
       "   'y': 82,\n",
       "   'w': 139,\n",
       "   'h': 139,\n",
       "   'left_eye': (172, 132),\n",
       "   'right_eye': (126, 134)}},\n",
       " 'time': 0.3}"
      ]
     },
     "execution_count": 14,
     "metadata": {},
     "output_type": "execute_result"
    }
   ],
   "source": [
    "result"
   ]
  },
  {
   "cell_type": "code",
   "execution_count": 15,
   "id": "d41ec3c9-4153-4bd1-b008-952d1ddf4ce4",
   "metadata": {},
   "outputs": [
    {
     "data": {
      "text/plain": [
       "False"
      ]
     },
     "execution_count": 15,
     "metadata": {},
     "output_type": "execute_result"
    }
   ],
   "source": [
    "result['verified']"
   ]
  },
  {
   "cell_type": "code",
   "execution_count": 16,
   "id": "b1977975-1cec-4726-8e20-8e0b8fbe0a9b",
   "metadata": {},
   "outputs": [
    {
     "data": {
      "text/plain": [
       "0.7437982107089207"
      ]
     },
     "execution_count": 16,
     "metadata": {},
     "output_type": "execute_result"
    }
   ],
   "source": [
    "result['distance']"
   ]
  },
  {
   "cell_type": "code",
   "execution_count": 30,
   "id": "8677176f-f697-4f88-a46a-06dad4d933e3",
   "metadata": {},
   "outputs": [],
   "source": [
    "matches, mismatches = [], []\n",
    "matchTr_error = []"
   ]
  },
  {
   "cell_type": "code",
   "execution_count": 31,
   "id": "cd9571a8-c45f-498f-a706-c989a2943d88",
   "metadata": {},
   "outputs": [],
   "source": [
    "for _ , person in matchPairsTrain.iterrows():\n",
    "    try:\n",
    "        result = DeepFace.verify(person.image1, person.image2, model_name=\"Facenet\")\n",
    "    except ValueError:\n",
    "        matchTr_error.append(_)\n",
    "        continue\n",
    "    matches.append(result['verified'])"
   ]
  },
  {
   "cell_type": "code",
   "execution_count": 32,
   "id": "fac9dd2f-c1dd-45cc-91bf-bb468e06e8b5",
   "metadata": {},
   "outputs": [],
   "source": [
    "matches = pd.DataFrame(matches, columns=[\"Result\"])"
   ]
  },
  {
   "cell_type": "code",
   "execution_count": 35,
   "id": "95e82b39-b17f-4118-af3d-5a71cfd863f4",
   "metadata": {},
   "outputs": [
    {
     "data": {
      "text/plain": [
       "0.6495726495726496"
      ]
     },
     "execution_count": 35,
     "metadata": {},
     "output_type": "execute_result"
    }
   ],
   "source": [
    "len(matches[matches.Result == True]) / len(matches)"
   ]
  }
 ],
 "metadata": {
  "kernelspec": {
   "display_name": "Python 3 (ipykernel)",
   "language": "python",
   "name": "python3"
  },
  "language_info": {
   "codemirror_mode": {
    "name": "ipython",
    "version": 3
   },
   "file_extension": ".py",
   "mimetype": "text/x-python",
   "name": "python",
   "nbconvert_exporter": "python",
   "pygments_lexer": "ipython3",
   "version": "3.11.4"
  }
 },
 "nbformat": 4,
 "nbformat_minor": 5
}
