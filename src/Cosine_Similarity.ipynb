{
 "cells": [
  {
   "cell_type": "markdown",
   "id": "6b836021-7c91-4cf1-9d10-653114b2e653",
   "metadata": {},
   "source": [
    "# Cosine Similarity Impementation"
   ]
  },
  {
   "cell_type": "code",
   "execution_count": 1,
   "id": "32bee40c-4b27-4641-8f75-9415768e8888",
   "metadata": {},
   "outputs": [],
   "source": [
    "# imports\n",
    "import numpy as np\n",
    "import pandas as pd\n",
    "from matplotlib import pyplot as plt\n",
    "import os\n",
    "import cv2\n",
    "from ast import literal_eval\n",
    "\n",
    "import keras\n",
    "import tensorflow as tf\n",
    "\n",
    "from sklearn.metrics.pairwise import cosine_similarity"
   ]
  },
  {
   "cell_type": "code",
   "execution_count": 2,
   "id": "24505b03-c3c6-42de-b1f4-3d1d37239d22",
   "metadata": {},
   "outputs": [],
   "source": [
    "# file paths\n",
    "path = os.getcwd()\n",
    "path = path[:-4]\n",
    "data_dir = path + \"/data/features/\""
   ]
  },
  {
   "cell_type": "code",
   "execution_count": 3,
   "id": "7660f4ae-8cec-4dab-85fd-f71c927a5e28",
   "metadata": {},
   "outputs": [],
   "source": [
    "matchPairsTrain, mismatchPairsTrain = pd.read_csv(data_dir + \"matchPairsTrain.csv\"), pd.read_csv(data_dir + \"mismatchPairsTrain.csv\")\n",
    "matchPairsTest, mismatchPairsTest = pd.read_csv(data_dir + \"matchPairsTest.csv\"), pd.read_csv(data_dir + \"mismatchPairsTest.csv\")"
   ]
  },
  {
   "cell_type": "code",
   "execution_count": 4,
   "id": "7a227dc0-9315-4132-9619-a02fac88faa8",
   "metadata": {},
   "outputs": [],
   "source": [
    "matchPairsTrain = matchPairsTrain.drop('Unnamed: 0', axis=1)\n",
    "matchPairsTest = matchPairsTest.drop('Unnamed: 0', axis=1)\n",
    "mismatchPairsTrain = mismatchPairsTrain.drop('Unnamed: 0', axis=1)\n",
    "mismatchPairsTest = mismatchPairsTest.drop('Unnamed: 0', axis=1)"
   ]
  },
  {
   "cell_type": "code",
   "execution_count": 5,
   "id": "120f5802-1477-4341-93df-2277bccfeb8c",
   "metadata": {},
   "outputs": [
    {
     "data": {
      "text/plain": [
       "((1100, 7),\n",
       " (500, 7),\n",
       " Index(['name', 'imagenum1', 'imagenum2', 'image1', 'image2', 'image1Features',\n",
       "        'image2Features'],\n",
       "       dtype='object'))"
      ]
     },
     "execution_count": 5,
     "metadata": {},
     "output_type": "execute_result"
    }
   ],
   "source": [
    "matchPairsTrain.shape, matchPairsTest.shape, matchPairsTest.columns"
   ]
  },
  {
   "cell_type": "code",
   "execution_count": 6,
   "id": "bdf73af3-5a37-4759-b324-825eae41720f",
   "metadata": {},
   "outputs": [
    {
     "data": {
      "text/plain": [
       "((1100, 8),\n",
       " (500, 8),\n",
       " Index(['name', 'imagenum1', 'name.1', 'imagenum2', 'image1', 'image2',\n",
       "        'image1Features', 'image2Features'],\n",
       "       dtype='object'))"
      ]
     },
     "execution_count": 6,
     "metadata": {},
     "output_type": "execute_result"
    }
   ],
   "source": [
    "mismatchPairsTrain.shape, mismatchPairsTest.shape, mismatchPairsTest.columns"
   ]
  },
  {
   "cell_type": "code",
   "execution_count": 7,
   "id": "f11fa205-e4fb-488f-a60d-d2fb8a74ef19",
   "metadata": {},
   "outputs": [],
   "source": [
    "def fix_feature_column(X, col):\n",
    "    fixed_col = []\n",
    "    for c in X[col]:\n",
    "        f = [float(x) for x in c[1:-1].replace('\\n', '').split()]\n",
    "        fixed_col.append(f)\n",
    "    return fixed_col"
   ]
  },
  {
   "cell_type": "code",
   "execution_count": 8,
   "id": "8a790264-de96-4b10-a47f-ccd4b9ea0e4e",
   "metadata": {},
   "outputs": [],
   "source": [
    "for c in [\"image1Features\", \"image2Features\"]:\n",
    "    matchPairsTrain[c] = fix_feature_column(matchPairsTrain, c)\n",
    "    matchPairsTest[c] = fix_feature_column(matchPairsTest, c)\n",
    "    mismatchPairsTrain[c] = fix_feature_column(mismatchPairsTrain, c)\n",
    "    mismatchPairsTest[c] = fix_feature_column(mismatchPairsTest, c)"
   ]
  },
  {
   "cell_type": "code",
   "execution_count": 9,
   "id": "f2a63d94-089a-436c-b1f3-7da26e575bde",
   "metadata": {},
   "outputs": [
    {
     "name": "stdout",
     "output_type": "stream",
     "text": [
      "Test Calculations\n",
      "Match: [[0.9637308]]\n",
      "Mismatch: [[1.2940537e-08]]\n"
     ]
    }
   ],
   "source": [
    "def sim(x1, x2):\n",
    "    return cosine_similarity(tf.reshape(x1, (1, -1)), tf.reshape(x2, (1, -1)))\n",
    "\n",
    "print(\"Test Calculations\")\n",
    "f1, f2 = matchPairsTrain.iloc[0].image1Features, matchPairsTrain.iloc[0].image2Features\n",
    "g1, g2 = mismatchPairsTrain.iloc[0].image1Features, mismatchPairsTrain.iloc[0].image2Features\n",
    "print(f\"Match: {sim(f1, f2)}\")\n",
    "print(f\"Mismatch: {sim(g1, g2)}\")"
   ]
  },
  {
   "cell_type": "markdown",
   "id": "e2883a1b-fe2c-493c-a879-ea2ac83eb55f",
   "metadata": {},
   "source": [
    "Cos Similarity ~ 1 $\\Rightarrow$ Match<br>\n",
    "Cos Similarity ~ 0 $\\Rightarrow$ Mismatch"
   ]
  },
  {
   "cell_type": "code",
   "execution_count": 10,
   "id": "19c0e058-2fa7-4032-b68e-7cce000044fa",
   "metadata": {},
   "outputs": [],
   "source": [
    "def sim_cols(X, threshold, match=True):\n",
    "    score, correct = [], []\n",
    "    for _ , person in X.iterrows():\n",
    "        f1, f2 = person.image1Features, person.image2Features\n",
    "        s = sim(f1, f2)\n",
    "        score.append(s)\n",
    "        if s > threshold:\n",
    "            if match:\n",
    "                correct.append(True)\n",
    "            else:\n",
    "                correct.append(False)\n",
    "        else:\n",
    "            if match:\n",
    "                correct.append(False)\n",
    "            else:\n",
    "                correct.append(True)\n",
    "    return score, correct"
   ]
  },
  {
   "cell_type": "code",
   "execution_count": 11,
   "id": "d59b4f59-c5bf-431f-b5b4-6684e2d1f382",
   "metadata": {},
   "outputs": [],
   "source": [
    "thr = 0.5\n",
    "matchPairsTrain[\"CosineSimilarity\"], matchPairsTrain[\"Results\"] = sim_cols(matchPairsTrain, thr)\n",
    "matchPairsTest[\"CosineSimilarity\"], matchPairsTest[\"Results\"] = sim_cols(matchPairsTest, thr)\n",
    "mismatchPairsTrain[\"CosineSimilarity\"], mismatchPairsTrain[\"Results\"] = sim_cols(mismatchPairsTrain, thr, match=False)\n",
    "mismatchPairsTest[\"CosineSimilarity\"], mismatchPairsTest[\"Results\"] = sim_cols(mismatchPairsTest, thr, match=False)"
   ]
  },
  {
   "cell_type": "code",
   "execution_count": 12,
   "id": "126049ac-da73-42ac-9047-fa0e5b7ee6bd",
   "metadata": {},
   "outputs": [
    {
     "name": "stdout",
     "output_type": "stream",
     "text": [
      "Accuracies w/ Threshold 0.5\n",
      "------------------------------\n",
      "matchPairsTrain: \t0.62\n",
      "matchPairsTest: \t0.63\n",
      "mismatchPairsTrain: \t0.40\n",
      "mismatchPairsTest: \t0.36\n"
     ]
    }
   ],
   "source": [
    "print(f\"Accuracies w/ Threshold {thr}\")\n",
    "print(f\"{'-'*30}\")\n",
    "print(f'matchPairsTrain: \\t{len(matchPairsTrain[matchPairsTrain[\"Results\"] == True]) / len(matchPairsTrain.Results):0.2f}')\n",
    "print(f'matchPairsTest: \\t{len(matchPairsTest[matchPairsTest[\"Results\"] == True]) / len(matchPairsTest.Results):0.2f}')\n",
    "print(f'mismatchPairsTrain: \\t{len(mismatchPairsTrain[mismatchPairsTrain[\"Results\"] == True]) / len(mismatchPairsTrain.Results):0.2f}')\n",
    "print(f'mismatchPairsTest: \\t{len(mismatchPairsTest[mismatchPairsTest[\"Results\"] == True]) / len(mismatchPairsTest.Results):0.2f}')"
   ]
  }
 ],
 "metadata": {
  "kernelspec": {
   "display_name": "Python 3 (ipykernel)",
   "language": "python",
   "name": "python3"
  },
  "language_info": {
   "codemirror_mode": {
    "name": "ipython",
    "version": 3
   },
   "file_extension": ".py",
   "mimetype": "text/x-python",
   "name": "python",
   "nbconvert_exporter": "python",
   "pygments_lexer": "ipython3",
   "version": "3.11.4"
  }
 },
 "nbformat": 4,
 "nbformat_minor": 5
}
