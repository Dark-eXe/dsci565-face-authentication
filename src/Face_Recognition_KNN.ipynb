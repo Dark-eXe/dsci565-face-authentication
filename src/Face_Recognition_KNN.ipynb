{
 "cells": [
  {
   "cell_type": "markdown",
   "id": "60196d97-2c8d-4d69-88b5-ba8fb24a01d1",
   "metadata": {},
   "source": [
    "# Face Recognition using KNN\n",
    "In this notebook, we aim to apply KNN based on cosine similarity distances from InceptionV3 and distance metrics from DeepFace implementations as the final culmination of the semester project."
   ]
  },
  {
   "cell_type": "code",
   "execution_count": 3,
   "id": "93afc37c-22f2-45d3-9ece-fc66d4685670",
   "metadata": {},
   "outputs": [],
   "source": [
    "# imports\n",
    "import numpy as np\n",
    "import pandas as pd\n",
    "from matplotlib import pyplot as plt\n",
    "import os\n",
    "import cv2\n",
    "from ast import literal_eval\n",
    "\n",
    "import keras\n",
    "import tensorflow as tf"
   ]
  },
  {
   "cell_type": "code",
   "execution_count": 4,
   "id": "75e27b3c-467d-4ba3-a0fb-3f5529921026",
   "metadata": {},
   "outputs": [],
   "source": [
    "from deepface import DeepFace"
   ]
  },
  {
   "cell_type": "code",
   "execution_count": 5,
   "id": "55fa4bdf-45a8-4b56-891e-b95df7820db2",
   "metadata": {},
   "outputs": [],
   "source": [
    "# file paths\n",
    "path = os.getcwd()\n",
    "path = path[:-4]\n",
    "data_dir = path + \"/data/\""
   ]
  },
  {
   "cell_type": "markdown",
   "id": "40b3f2d5-7a8d-4f1e-b872-a25336209fef",
   "metadata": {},
   "source": [
    "### I. Load InceptionV3 Feature Embeddings from \"/data/dataset_features.csv\""
   ]
  },
  {
   "cell_type": "code",
   "execution_count": 6,
   "id": "d4cc10ef-fae0-406e-a98d-f68b58f5bc68",
   "metadata": {},
   "outputs": [],
   "source": [
    "dataset = pd.read_csv(data_dir + \"dataset_features.csv\")"
   ]
  },
  {
   "cell_type": "code",
   "execution_count": 7,
   "id": "83b5d0d7-f4c8-4132-9e7b-a9a3eaeb25c7",
   "metadata": {},
   "outputs": [
    {
     "data": {
      "text/html": [
       "<div>\n",
       "<style scoped>\n",
       "    .dataframe tbody tr th:only-of-type {\n",
       "        vertical-align: middle;\n",
       "    }\n",
       "\n",
       "    .dataframe tbody tr th {\n",
       "        vertical-align: top;\n",
       "    }\n",
       "\n",
       "    .dataframe thead th {\n",
       "        text-align: right;\n",
       "    }\n",
       "</style>\n",
       "<table border=\"1\" class=\"dataframe\">\n",
       "  <thead>\n",
       "    <tr style=\"text-align: right;\">\n",
       "      <th></th>\n",
       "      <th>Unnamed: 0</th>\n",
       "      <th>image</th>\n",
       "      <th>person</th>\n",
       "      <th>split</th>\n",
       "      <th>v3_features</th>\n",
       "    </tr>\n",
       "  </thead>\n",
       "  <tbody>\n",
       "    <tr>\n",
       "      <th>0</th>\n",
       "      <td>0</td>\n",
       "      <td>[[[ 0  1  0]\\n  [ 0  1  0]\\n  [ 0  1  0]\\n  .....</td>\n",
       "      <td>Ann_Veneman</td>\n",
       "      <td>train</td>\n",
       "      <td>[0.0000000e+00 0.0000000e+00 0.0000000e+00 0.0...</td>\n",
       "    </tr>\n",
       "    <tr>\n",
       "      <th>1</th>\n",
       "      <td>1</td>\n",
       "      <td>[[[0 1 1]\\n  [0 1 1]\\n  [0 1 1]\\n  ...\\n  [1 2...</td>\n",
       "      <td>Ann_Veneman</td>\n",
       "      <td>train</td>\n",
       "      <td>[0.0000000e+00 0.0000000e+00 0.0000000e+00 0.0...</td>\n",
       "    </tr>\n",
       "    <tr>\n",
       "      <th>2</th>\n",
       "      <td>2</td>\n",
       "      <td>[[[0 0 0]\\n  [0 0 0]\\n  [1 0 0]\\n  ...\\n  [0 1...</td>\n",
       "      <td>Ann_Veneman</td>\n",
       "      <td>train</td>\n",
       "      <td>[0.0000000e+00 0.0000000e+00 0.0000000e+00 0.0...</td>\n",
       "    </tr>\n",
       "    <tr>\n",
       "      <th>3</th>\n",
       "      <td>3</td>\n",
       "      <td>[[[0 0 0]\\n  [0 0 0]\\n  [0 0 0]\\n  ...\\n  [0 0...</td>\n",
       "      <td>Ann_Veneman</td>\n",
       "      <td>train</td>\n",
       "      <td>[0.00000000e+00 0.00000000e+00 0.00000000e+00 ...</td>\n",
       "    </tr>\n",
       "    <tr>\n",
       "      <th>4</th>\n",
       "      <td>4</td>\n",
       "      <td>[[[129 163 176]\\n  [129 163 176]\\n  [129 163 1...</td>\n",
       "      <td>Ann_Veneman</td>\n",
       "      <td>test</td>\n",
       "      <td>[0.00000000e+00 0.00000000e+00 0.00000000e+00 ...</td>\n",
       "    </tr>\n",
       "    <tr>\n",
       "      <th>...</th>\n",
       "      <td>...</td>\n",
       "      <td>...</td>\n",
       "      <td>...</td>\n",
       "      <td>...</td>\n",
       "      <td>...</td>\n",
       "    </tr>\n",
       "    <tr>\n",
       "      <th>5090</th>\n",
       "      <td>5090</td>\n",
       "      <td>[[[0 0 0]\\n  [0 0 0]\\n  [0 0 0]\\n  ...\\n  [0 0...</td>\n",
       "      <td>Zhu_Rongji</td>\n",
       "      <td>train</td>\n",
       "      <td>[0.0000000e+00 0.0000000e+00 0.0000000e+00 0.0...</td>\n",
       "    </tr>\n",
       "    <tr>\n",
       "      <th>5091</th>\n",
       "      <td>5091</td>\n",
       "      <td>[[[0 0 0]\\n  [0 0 0]\\n  [0 0 0]\\n  ...\\n  [0 0...</td>\n",
       "      <td>Zhu_Rongji</td>\n",
       "      <td>train</td>\n",
       "      <td>[0.0000000e+00 0.0000000e+00 0.0000000e+00 0.0...</td>\n",
       "    </tr>\n",
       "    <tr>\n",
       "      <th>5092</th>\n",
       "      <td>5092</td>\n",
       "      <td>[[[0 0 0]\\n  [0 0 0]\\n  [0 0 0]\\n  ...\\n  [0 0...</td>\n",
       "      <td>Zhu_Rongji</td>\n",
       "      <td>test</td>\n",
       "      <td>[0.00000000e+00 0.00000000e+00 0.00000000e+00 ...</td>\n",
       "    </tr>\n",
       "    <tr>\n",
       "      <th>5093</th>\n",
       "      <td>5093</td>\n",
       "      <td>[[[0 0 0]\\n  [0 0 0]\\n  [0 0 0]\\n  ...\\n  [0 0...</td>\n",
       "      <td>Zhu_Rongji</td>\n",
       "      <td>train</td>\n",
       "      <td>[0.00000000e+00 0.00000000e+00 0.00000000e+00 ...</td>\n",
       "    </tr>\n",
       "    <tr>\n",
       "      <th>5094</th>\n",
       "      <td>5094</td>\n",
       "      <td>[[[0 0 0]\\n  [0 0 0]\\n  [0 0 0]\\n  ...\\n  [0 0...</td>\n",
       "      <td>Zhu_Rongji</td>\n",
       "      <td>train</td>\n",
       "      <td>[0.0000000e+00 0.0000000e+00 0.0000000e+00 0.0...</td>\n",
       "    </tr>\n",
       "  </tbody>\n",
       "</table>\n",
       "<p>5095 rows × 5 columns</p>\n",
       "</div>"
      ],
      "text/plain": [
       "      Unnamed: 0                                              image  \\\n",
       "0              0  [[[ 0  1  0]\\n  [ 0  1  0]\\n  [ 0  1  0]\\n  .....   \n",
       "1              1  [[[0 1 1]\\n  [0 1 1]\\n  [0 1 1]\\n  ...\\n  [1 2...   \n",
       "2              2  [[[0 0 0]\\n  [0 0 0]\\n  [1 0 0]\\n  ...\\n  [0 1...   \n",
       "3              3  [[[0 0 0]\\n  [0 0 0]\\n  [0 0 0]\\n  ...\\n  [0 0...   \n",
       "4              4  [[[129 163 176]\\n  [129 163 176]\\n  [129 163 1...   \n",
       "...          ...                                                ...   \n",
       "5090        5090  [[[0 0 0]\\n  [0 0 0]\\n  [0 0 0]\\n  ...\\n  [0 0...   \n",
       "5091        5091  [[[0 0 0]\\n  [0 0 0]\\n  [0 0 0]\\n  ...\\n  [0 0...   \n",
       "5092        5092  [[[0 0 0]\\n  [0 0 0]\\n  [0 0 0]\\n  ...\\n  [0 0...   \n",
       "5093        5093  [[[0 0 0]\\n  [0 0 0]\\n  [0 0 0]\\n  ...\\n  [0 0...   \n",
       "5094        5094  [[[0 0 0]\\n  [0 0 0]\\n  [0 0 0]\\n  ...\\n  [0 0...   \n",
       "\n",
       "           person  split                                        v3_features  \n",
       "0     Ann_Veneman  train  [0.0000000e+00 0.0000000e+00 0.0000000e+00 0.0...  \n",
       "1     Ann_Veneman  train  [0.0000000e+00 0.0000000e+00 0.0000000e+00 0.0...  \n",
       "2     Ann_Veneman  train  [0.0000000e+00 0.0000000e+00 0.0000000e+00 0.0...  \n",
       "3     Ann_Veneman  train  [0.00000000e+00 0.00000000e+00 0.00000000e+00 ...  \n",
       "4     Ann_Veneman   test  [0.00000000e+00 0.00000000e+00 0.00000000e+00 ...  \n",
       "...           ...    ...                                                ...  \n",
       "5090   Zhu_Rongji  train  [0.0000000e+00 0.0000000e+00 0.0000000e+00 0.0...  \n",
       "5091   Zhu_Rongji  train  [0.0000000e+00 0.0000000e+00 0.0000000e+00 0.0...  \n",
       "5092   Zhu_Rongji   test  [0.00000000e+00 0.00000000e+00 0.00000000e+00 ...  \n",
       "5093   Zhu_Rongji  train  [0.00000000e+00 0.00000000e+00 0.00000000e+00 ...  \n",
       "5094   Zhu_Rongji  train  [0.0000000e+00 0.0000000e+00 0.0000000e+00 0.0...  \n",
       "\n",
       "[5095 rows x 5 columns]"
      ]
     },
     "execution_count": 7,
     "metadata": {},
     "output_type": "execute_result"
    }
   ],
   "source": [
    "dataset"
   ]
  },
  {
   "cell_type": "markdown",
   "id": "407358c3-6be6-46bb-be8e-68f9c2e55b28",
   "metadata": {},
   "source": [
    "Let's fix the image column by rereplacing the values to image number and extract using getImg()..."
   ]
  },
  {
   "cell_type": "code",
   "execution_count": 8,
   "id": "1261be87-85e1-4be8-98c8-366beba5512e",
   "metadata": {},
   "outputs": [],
   "source": [
    "def getImg(name, num):\n",
    "    imgPath = data_dir + '/' + name + '/' + name + '_' +  \"{:04d}\".format(num) + '.jpg'\n",
    "    img = cv2.imread(imgPath)\n",
    "    img = cv2.resize(img, (299, 299))\n",
    "    return img"
   ]
  },
  {
   "cell_type": "code",
   "execution_count": null,
   "id": "f8dc1731-ffb3-402e-acdd-54ed5d54f062",
   "metadata": {},
   "outputs": [],
   "source": []
  },
  {
   "cell_type": "code",
   "execution_count": 11,
   "id": "77fd2cd0-4b97-409c-92e5-42023e0f0a58",
   "metadata": {},
   "outputs": [],
   "source": [
    "def fix_feature_column(X, col):\n",
    "    fixed_col = []\n",
    "    for c in X[col]:\n",
    "        f = [float(x) for x in c[1:-1].replace('\\n', '').split()]\n",
    "        fixed_col.append(f)\n",
    "    return fixed_col"
   ]
  },
  {
   "cell_type": "code",
   "execution_count": 12,
   "id": "bb0d4bb5-d636-4f77-b803-a4a4f999f0db",
   "metadata": {},
   "outputs": [],
   "source": [
    "dataset[\"v3_features\"] = fix_feature_column(dataset, \"v3_features\")"
   ]
  },
  {
   "cell_type": "markdown",
   "id": "5c642a0a-8451-4df8-943e-f997eaa5fee3",
   "metadata": {},
   "source": [
    "### II. Compute Distances (cosine sim, deepface models) of Test Data Against Train Data"
   ]
  },
  {
   "cell_type": "code",
   "execution_count": null,
   "id": "91ab734f-4ed4-4b50-951a-6171241d4a56",
   "metadata": {},
   "outputs": [],
   "source": []
  },
  {
   "cell_type": "code",
   "execution_count": null,
   "id": "7667eae0-a993-4da3-b79c-610e0c5c2a87",
   "metadata": {},
   "outputs": [],
   "source": []
  },
  {
   "cell_type": "markdown",
   "id": "a58cfc2c-02c7-4b4e-bf11-e705ab64024a",
   "metadata": {},
   "source": [
    "### III. Get Predictions and Results"
   ]
  },
  {
   "cell_type": "code",
   "execution_count": null,
   "id": "67dec17f-c2cb-4ad7-b331-6ab4c3143ec6",
   "metadata": {},
   "outputs": [],
   "source": []
  },
  {
   "cell_type": "code",
   "execution_count": null,
   "id": "f31bf6b2-2ed2-4d7b-aac9-ede8a599bd75",
   "metadata": {},
   "outputs": [],
   "source": []
  }
 ],
 "metadata": {
  "kernelspec": {
   "display_name": "Python 3 (ipykernel)",
   "language": "python",
   "name": "python3"
  },
  "language_info": {
   "codemirror_mode": {
    "name": "ipython",
    "version": 3
   },
   "file_extension": ".py",
   "mimetype": "text/x-python",
   "name": "python",
   "nbconvert_exporter": "python",
   "pygments_lexer": "ipython3",
   "version": "3.11.4"
  }
 },
 "nbformat": 4,
 "nbformat_minor": 5
}
