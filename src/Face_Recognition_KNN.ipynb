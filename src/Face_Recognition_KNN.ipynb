{
 "cells": [
  {
   "cell_type": "markdown",
   "id": "60196d97-2c8d-4d69-88b5-ba8fb24a01d1",
   "metadata": {},
   "source": [
    "# Face Recognition using KNN\n",
    "In this notebook, we aim to apply KNN based on cosine similarity distances from InceptionV3 and distance metrics from DeepFace implementations as the final culmination of the semester project."
   ]
  },
  {
   "cell_type": "code",
   "execution_count": 1,
   "id": "93afc37c-22f2-45d3-9ece-fc66d4685670",
   "metadata": {},
   "outputs": [],
   "source": [
    "# imports\n",
    "import numpy as np\n",
    "import pandas as pd\n",
    "from matplotlib import pyplot as plt\n",
    "import os\n",
    "import cv2\n",
    "from ast import literal_eval\n",
    "\n",
    "import keras\n",
    "import tensorflow as tf"
   ]
  },
  {
   "cell_type": "code",
   "execution_count": 2,
   "id": "75e27b3c-467d-4ba3-a0fb-3f5529921026",
   "metadata": {},
   "outputs": [],
   "source": [
    "from deepface import DeepFace"
   ]
  },
  {
   "cell_type": "code",
   "execution_count": 3,
   "id": "55fa4bdf-45a8-4b56-891e-b95df7820db2",
   "metadata": {},
   "outputs": [],
   "source": [
    "# file paths\n",
    "path = os.getcwd()\n",
    "path = path[:-4]\n",
    "data_dir = path + \"/data/lfw-deepfunneled\"\n",
    "feature_dir = path + \"/data/features/\""
   ]
  },
  {
   "cell_type": "markdown",
   "id": "40b3f2d5-7a8d-4f1e-b872-a25336209fef",
   "metadata": {},
   "source": [
    "### I. Load InceptionV3 Feature Embeddings from \"/data/features/\""
   ]
  },
  {
   "cell_type": "code",
   "execution_count": null,
   "id": "d4cc10ef-fae0-406e-a98d-f68b58f5bc68",
   "metadata": {},
   "outputs": [],
   "source": []
  },
  {
   "cell_type": "code",
   "execution_count": null,
   "id": "30a1eee1-f3bd-4efa-adcc-d15ce84d4c3d",
   "metadata": {},
   "outputs": [],
   "source": []
  },
  {
   "cell_type": "markdown",
   "id": "5c642a0a-8451-4df8-943e-f997eaa5fee3",
   "metadata": {},
   "source": [
    "### II. Compute Distances (cosine sim, deepface models) of Test Data Against Train Data"
   ]
  },
  {
   "cell_type": "code",
   "execution_count": null,
   "id": "91ab734f-4ed4-4b50-951a-6171241d4a56",
   "metadata": {},
   "outputs": [],
   "source": []
  },
  {
   "cell_type": "code",
   "execution_count": null,
   "id": "7667eae0-a993-4da3-b79c-610e0c5c2a87",
   "metadata": {},
   "outputs": [],
   "source": []
  },
  {
   "cell_type": "markdown",
   "id": "a58cfc2c-02c7-4b4e-bf11-e705ab64024a",
   "metadata": {},
   "source": [
    "### III. Get Predictions and Results"
   ]
  },
  {
   "cell_type": "code",
   "execution_count": null,
   "id": "67dec17f-c2cb-4ad7-b331-6ab4c3143ec6",
   "metadata": {},
   "outputs": [],
   "source": []
  },
  {
   "cell_type": "code",
   "execution_count": null,
   "id": "f31bf6b2-2ed2-4d7b-aac9-ede8a599bd75",
   "metadata": {},
   "outputs": [],
   "source": []
  }
 ],
 "metadata": {
  "kernelspec": {
   "display_name": "Python 3 (ipykernel)",
   "language": "python",
   "name": "python3"
  },
  "language_info": {
   "codemirror_mode": {
    "name": "ipython",
    "version": 3
   },
   "file_extension": ".py",
   "mimetype": "text/x-python",
   "name": "python",
   "nbconvert_exporter": "python",
   "pygments_lexer": "ipython3",
   "version": "3.11.4"
  }
 },
 "nbformat": 4,
 "nbformat_minor": 5
}
