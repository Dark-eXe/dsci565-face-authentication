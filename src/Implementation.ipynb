{
 "cells": [
  {
   "cell_type": "markdown",
   "id": "888d86a8-c405-4dd7-8df4-04e0a17d19ad",
   "metadata": {},
   "source": [
    "# Implementation"
   ]
  },
  {
   "cell_type": "markdown",
   "id": "0cb91642-573b-485f-90b7-651ad6e54174",
   "metadata": {},
   "source": [
    "## Imports"
   ]
  },
  {
   "cell_type": "code",
   "execution_count": 1,
   "id": "92d84613-7e94-4d40-83ce-363e29e21243",
   "metadata": {},
   "outputs": [],
   "source": [
    "import numpy as np\n",
    "import pandas as pd\n",
    "from matplotlib import pyplot as plt\n",
    "import os"
   ]
  },
  {
   "cell_type": "code",
   "execution_count": 2,
   "id": "76879048-70ca-480c-83aa-cb8360fe6f5e",
   "metadata": {},
   "outputs": [],
   "source": [
    "plt.style.use('dark_background')"
   ]
  },
  {
   "cell_type": "code",
   "execution_count": 3,
   "id": "167413a6-9f69-4fe9-9835-f524454df439",
   "metadata": {},
   "outputs": [],
   "source": [
    "import sklearn\n",
    "import keras\n",
    "import tensorflow as tf"
   ]
  },
  {
   "cell_type": "code",
   "execution_count": 4,
   "id": "28cc94ce-9f52-45b2-b961-be5837c85728",
   "metadata": {},
   "outputs": [],
   "source": [
    "from keras.applications import InceptionV3"
   ]
  },
  {
   "cell_type": "code",
   "execution_count": 5,
   "id": "668d8f89-3bb2-4c1e-9183-db7b553ca5ad",
   "metadata": {},
   "outputs": [
    {
     "name": "stdout",
     "output_type": "stream",
     "text": [
      "Requirement already satisfied: opencv-python==4.5.5.64 in /Users/andrewturangan/miniconda3/lib/python3.11/site-packages (4.5.5.64)\n",
      "Requirement already satisfied: numpy>=1.21.2 in /Users/andrewturangan/miniconda3/lib/python3.11/site-packages (from opencv-python==4.5.5.64) (1.23.5)\n"
     ]
    }
   ],
   "source": [
    "!pip install opencv-python==4.5.5.64"
   ]
  },
  {
   "cell_type": "code",
   "execution_count": 6,
   "id": "edd533c3-091d-48f4-abe4-42b469f23a61",
   "metadata": {},
   "outputs": [],
   "source": [
    "import cv2"
   ]
  },
  {
   "cell_type": "markdown",
   "id": "4102ad46-c3ba-42ea-a4b8-8ce008eb1422",
   "metadata": {},
   "source": [
    "## Exploratory Analysis"
   ]
  },
  {
   "cell_type": "code",
   "execution_count": 7,
   "id": "75ff0636-a20a-414a-b5a8-8658f7622c82",
   "metadata": {},
   "outputs": [],
   "source": [
    "path = os.getcwd()\n",
    "path = path[:-4]\n",
    "data_dir = path + \"/data/lfw-deepfunneled\""
   ]
  },
  {
   "cell_type": "code",
   "execution_count": 8,
   "id": "289cb3cf-1754-4739-b0a5-94d9a5151813",
   "metadata": {},
   "outputs": [
    {
     "data": {
      "text/plain": [
       "5750"
      ]
     },
     "execution_count": 8,
     "metadata": {},
     "output_type": "execute_result"
    }
   ],
   "source": [
    "len(os.listdir(data_dir))"
   ]
  },
  {
   "cell_type": "markdown",
   "id": "b1edc4df-a8c7-4f09-a91b-d135d4065d65",
   "metadata": {},
   "source": [
    "Should be 5750 people."
   ]
  },
  {
   "cell_type": "code",
   "execution_count": 9,
   "id": "cba05fa2-182d-4cbe-88e8-ae22d52d547f",
   "metadata": {},
   "outputs": [],
   "source": [
    "people = pd.read_csv(path + \"/data/people.csv\")"
   ]
  },
  {
   "cell_type": "code",
   "execution_count": 10,
   "id": "db6d2052-ce38-4ddc-8902-2102b261614c",
   "metadata": {},
   "outputs": [
    {
     "data": {
      "text/html": [
       "<div>\n",
       "<style scoped>\n",
       "    .dataframe tbody tr th:only-of-type {\n",
       "        vertical-align: middle;\n",
       "    }\n",
       "\n",
       "    .dataframe tbody tr th {\n",
       "        vertical-align: top;\n",
       "    }\n",
       "\n",
       "    .dataframe thead th {\n",
       "        text-align: right;\n",
       "    }\n",
       "</style>\n",
       "<table border=\"1\" class=\"dataframe\">\n",
       "  <thead>\n",
       "    <tr style=\"text-align: right;\">\n",
       "      <th></th>\n",
       "      <th>name</th>\n",
       "      <th>images</th>\n",
       "    </tr>\n",
       "  </thead>\n",
       "  <tbody>\n",
       "    <tr>\n",
       "      <th>0</th>\n",
       "      <td>Abdel_Madi_Shabneh</td>\n",
       "      <td>1.0</td>\n",
       "    </tr>\n",
       "    <tr>\n",
       "      <th>1</th>\n",
       "      <td>Abdul_Rahman</td>\n",
       "      <td>1.0</td>\n",
       "    </tr>\n",
       "    <tr>\n",
       "      <th>2</th>\n",
       "      <td>Abel_Pacheco</td>\n",
       "      <td>4.0</td>\n",
       "    </tr>\n",
       "    <tr>\n",
       "      <th>3</th>\n",
       "      <td>Adriana_Lima</td>\n",
       "      <td>1.0</td>\n",
       "    </tr>\n",
       "    <tr>\n",
       "      <th>4</th>\n",
       "      <td>Afton_Smith</td>\n",
       "      <td>1.0</td>\n",
       "    </tr>\n",
       "    <tr>\n",
       "      <th>...</th>\n",
       "      <td>...</td>\n",
       "      <td>...</td>\n",
       "    </tr>\n",
       "    <tr>\n",
       "      <th>5753</th>\n",
       "      <td>Yves_Brodeur</td>\n",
       "      <td>1.0</td>\n",
       "    </tr>\n",
       "    <tr>\n",
       "      <th>5754</th>\n",
       "      <td>Zach_Pillar</td>\n",
       "      <td>1.0</td>\n",
       "    </tr>\n",
       "    <tr>\n",
       "      <th>5755</th>\n",
       "      <td>Zafarullah_Khan_Jamali</td>\n",
       "      <td>2.0</td>\n",
       "    </tr>\n",
       "    <tr>\n",
       "      <th>5756</th>\n",
       "      <td>Zara_Akhmadova</td>\n",
       "      <td>1.0</td>\n",
       "    </tr>\n",
       "    <tr>\n",
       "      <th>5757</th>\n",
       "      <td>Zhu_Rongji</td>\n",
       "      <td>9.0</td>\n",
       "    </tr>\n",
       "  </tbody>\n",
       "</table>\n",
       "<p>5758 rows × 2 columns</p>\n",
       "</div>"
      ],
      "text/plain": [
       "                        name  images\n",
       "0         Abdel_Madi_Shabneh     1.0\n",
       "1               Abdul_Rahman     1.0\n",
       "2               Abel_Pacheco     4.0\n",
       "3               Adriana_Lima     1.0\n",
       "4                Afton_Smith     1.0\n",
       "...                      ...     ...\n",
       "5753            Yves_Brodeur     1.0\n",
       "5754             Zach_Pillar     1.0\n",
       "5755  Zafarullah_Khan_Jamali     2.0\n",
       "5756          Zara_Akhmadova     1.0\n",
       "5757              Zhu_Rongji     9.0\n",
       "\n",
       "[5758 rows x 2 columns]"
      ]
     },
     "execution_count": 10,
     "metadata": {},
     "output_type": "execute_result"
    }
   ],
   "source": [
    "people"
   ]
  },
  {
   "cell_type": "markdown",
   "id": "af570e80-3584-4681-b7e9-9730b0f31704",
   "metadata": {},
   "source": [
    "5758 people in metadata spreadsheet... let's consider only the intersection."
   ]
  },
  {
   "cell_type": "code",
   "execution_count": 11,
   "id": "9f74f14d-5b8e-4b7f-be98-13332e9521ee",
   "metadata": {},
   "outputs": [],
   "source": [
    "names = [item for item in people[\"name\"].tolist() if item in os.listdir(data_dir)]"
   ]
  },
  {
   "cell_type": "code",
   "execution_count": 12,
   "id": "e19855a5-d050-42cc-b965-85ac4da4f989",
   "metadata": {},
   "outputs": [
    {
     "data": {
      "text/plain": [
       "5749"
      ]
     },
     "execution_count": 12,
     "metadata": {},
     "output_type": "execute_result"
    }
   ],
   "source": [
    "len(names)"
   ]
  },
  {
   "cell_type": "code",
   "execution_count": 13,
   "id": "ce697b29-d4fe-4332-aa99-881769f00252",
   "metadata": {},
   "outputs": [],
   "source": [
    "people = people[people[\"name\"].isin(names)]"
   ]
  },
  {
   "cell_type": "code",
   "execution_count": 14,
   "id": "aebc7ed1-a036-4f99-a2e4-7cd20fb26dc0",
   "metadata": {},
   "outputs": [
    {
     "data": {
      "text/html": [
       "<div>\n",
       "<style scoped>\n",
       "    .dataframe tbody tr th:only-of-type {\n",
       "        vertical-align: middle;\n",
       "    }\n",
       "\n",
       "    .dataframe tbody tr th {\n",
       "        vertical-align: top;\n",
       "    }\n",
       "\n",
       "    .dataframe thead th {\n",
       "        text-align: right;\n",
       "    }\n",
       "</style>\n",
       "<table border=\"1\" class=\"dataframe\">\n",
       "  <thead>\n",
       "    <tr style=\"text-align: right;\">\n",
       "      <th></th>\n",
       "      <th>name</th>\n",
       "      <th>images</th>\n",
       "    </tr>\n",
       "  </thead>\n",
       "  <tbody>\n",
       "    <tr>\n",
       "      <th>0</th>\n",
       "      <td>Abdel_Madi_Shabneh</td>\n",
       "      <td>1.0</td>\n",
       "    </tr>\n",
       "    <tr>\n",
       "      <th>1</th>\n",
       "      <td>Abdul_Rahman</td>\n",
       "      <td>1.0</td>\n",
       "    </tr>\n",
       "    <tr>\n",
       "      <th>2</th>\n",
       "      <td>Abel_Pacheco</td>\n",
       "      <td>4.0</td>\n",
       "    </tr>\n",
       "    <tr>\n",
       "      <th>3</th>\n",
       "      <td>Adriana_Lima</td>\n",
       "      <td>1.0</td>\n",
       "    </tr>\n",
       "    <tr>\n",
       "      <th>4</th>\n",
       "      <td>Afton_Smith</td>\n",
       "      <td>1.0</td>\n",
       "    </tr>\n",
       "    <tr>\n",
       "      <th>...</th>\n",
       "      <td>...</td>\n",
       "      <td>...</td>\n",
       "    </tr>\n",
       "    <tr>\n",
       "      <th>5753</th>\n",
       "      <td>Yves_Brodeur</td>\n",
       "      <td>1.0</td>\n",
       "    </tr>\n",
       "    <tr>\n",
       "      <th>5754</th>\n",
       "      <td>Zach_Pillar</td>\n",
       "      <td>1.0</td>\n",
       "    </tr>\n",
       "    <tr>\n",
       "      <th>5755</th>\n",
       "      <td>Zafarullah_Khan_Jamali</td>\n",
       "      <td>2.0</td>\n",
       "    </tr>\n",
       "    <tr>\n",
       "      <th>5756</th>\n",
       "      <td>Zara_Akhmadova</td>\n",
       "      <td>1.0</td>\n",
       "    </tr>\n",
       "    <tr>\n",
       "      <th>5757</th>\n",
       "      <td>Zhu_Rongji</td>\n",
       "      <td>9.0</td>\n",
       "    </tr>\n",
       "  </tbody>\n",
       "</table>\n",
       "<p>5749 rows × 2 columns</p>\n",
       "</div>"
      ],
      "text/plain": [
       "                        name  images\n",
       "0         Abdel_Madi_Shabneh     1.0\n",
       "1               Abdul_Rahman     1.0\n",
       "2               Abel_Pacheco     4.0\n",
       "3               Adriana_Lima     1.0\n",
       "4                Afton_Smith     1.0\n",
       "...                      ...     ...\n",
       "5753            Yves_Brodeur     1.0\n",
       "5754             Zach_Pillar     1.0\n",
       "5755  Zafarullah_Khan_Jamali     2.0\n",
       "5756          Zara_Akhmadova     1.0\n",
       "5757              Zhu_Rongji     9.0\n",
       "\n",
       "[5749 rows x 2 columns]"
      ]
     },
     "execution_count": 14,
     "metadata": {},
     "output_type": "execute_result"
    }
   ],
   "source": [
    "people"
   ]
  },
  {
   "cell_type": "code",
   "execution_count": 15,
   "id": "548c779f-710c-4f02-96eb-458ebc1e8a24",
   "metadata": {},
   "outputs": [
    {
     "data": {
      "text/plain": [
       "13233.0"
      ]
     },
     "execution_count": 15,
     "metadata": {},
     "output_type": "execute_result"
    }
   ],
   "source": [
    "people[\"images\"].sum()"
   ]
  },
  {
   "cell_type": "code",
   "execution_count": 16,
   "id": "5fd1f0a6-5761-4205-b90f-247b3b03e0fc",
   "metadata": {},
   "outputs": [
    {
     "data": {
      "text/html": [
       "<div>\n",
       "<style scoped>\n",
       "    .dataframe tbody tr th:only-of-type {\n",
       "        vertical-align: middle;\n",
       "    }\n",
       "\n",
       "    .dataframe tbody tr th {\n",
       "        vertical-align: top;\n",
       "    }\n",
       "\n",
       "    .dataframe thead th {\n",
       "        text-align: right;\n",
       "    }\n",
       "</style>\n",
       "<table border=\"1\" class=\"dataframe\">\n",
       "  <thead>\n",
       "    <tr style=\"text-align: right;\">\n",
       "      <th></th>\n",
       "      <th>name</th>\n",
       "      <th>images</th>\n",
       "    </tr>\n",
       "  </thead>\n",
       "  <tbody>\n",
       "    <tr>\n",
       "      <th>2</th>\n",
       "      <td>Abel_Pacheco</td>\n",
       "      <td>4.0</td>\n",
       "    </tr>\n",
       "    <tr>\n",
       "      <th>6</th>\n",
       "      <td>Akhmed_Zakayev</td>\n",
       "      <td>3.0</td>\n",
       "    </tr>\n",
       "    <tr>\n",
       "      <th>10</th>\n",
       "      <td>Alejandro_Atchugarry</td>\n",
       "      <td>2.0</td>\n",
       "    </tr>\n",
       "    <tr>\n",
       "      <th>17</th>\n",
       "      <td>Amber_Tamblyn</td>\n",
       "      <td>2.0</td>\n",
       "    </tr>\n",
       "    <tr>\n",
       "      <th>19</th>\n",
       "      <td>Anders_Fogh_Rasmussen</td>\n",
       "      <td>4.0</td>\n",
       "    </tr>\n",
       "    <tr>\n",
       "      <th>...</th>\n",
       "      <td>...</td>\n",
       "      <td>...</td>\n",
       "    </tr>\n",
       "    <tr>\n",
       "      <th>5738</th>\n",
       "      <td>Vladimir_Voltchkov</td>\n",
       "      <td>2.0</td>\n",
       "    </tr>\n",
       "    <tr>\n",
       "      <th>5740</th>\n",
       "      <td>Wang_Yi</td>\n",
       "      <td>2.0</td>\n",
       "    </tr>\n",
       "    <tr>\n",
       "      <th>5742</th>\n",
       "      <td>William_Burns</td>\n",
       "      <td>2.0</td>\n",
       "    </tr>\n",
       "    <tr>\n",
       "      <th>5755</th>\n",
       "      <td>Zafarullah_Khan_Jamali</td>\n",
       "      <td>2.0</td>\n",
       "    </tr>\n",
       "    <tr>\n",
       "      <th>5757</th>\n",
       "      <td>Zhu_Rongji</td>\n",
       "      <td>9.0</td>\n",
       "    </tr>\n",
       "  </tbody>\n",
       "</table>\n",
       "<p>1680 rows × 2 columns</p>\n",
       "</div>"
      ],
      "text/plain": [
       "                        name  images\n",
       "2               Abel_Pacheco     4.0\n",
       "6             Akhmed_Zakayev     3.0\n",
       "10      Alejandro_Atchugarry     2.0\n",
       "17             Amber_Tamblyn     2.0\n",
       "19     Anders_Fogh_Rasmussen     4.0\n",
       "...                      ...     ...\n",
       "5738      Vladimir_Voltchkov     2.0\n",
       "5740                 Wang_Yi     2.0\n",
       "5742           William_Burns     2.0\n",
       "5755  Zafarullah_Khan_Jamali     2.0\n",
       "5757              Zhu_Rongji     9.0\n",
       "\n",
       "[1680 rows x 2 columns]"
      ]
     },
     "execution_count": 16,
     "metadata": {},
     "output_type": "execute_result"
    }
   ],
   "source": [
    "people[people[\"images\"] > 1]"
   ]
  },
  {
   "cell_type": "markdown",
   "id": "f78d5c8b-a8fe-4d3b-8f3d-aa4178ba46ed",
   "metadata": {},
   "source": [
    "1680 people with more than 1 image. Will use for test."
   ]
  },
  {
   "cell_type": "markdown",
   "id": "83cbc4d5-975b-4bb2-868e-48ddda962ae3",
   "metadata": {},
   "source": [
    "Let's get the pixel matrix of an image and plot it."
   ]
  },
  {
   "cell_type": "code",
   "execution_count": 17,
   "id": "5e50a5e7-5c15-4aae-98cf-5ffb0439d0d7",
   "metadata": {},
   "outputs": [],
   "source": [
    "image_path = data_dir + '/' + names[1] + '/' + names[1] + '_0001.jpg'"
   ]
  },
  {
   "cell_type": "code",
   "execution_count": 18,
   "id": "abc8adea-485c-4e58-ab88-3f8813c6505a",
   "metadata": {},
   "outputs": [],
   "source": [
    "image = cv2.imread(image_path)"
   ]
  },
  {
   "cell_type": "code",
   "execution_count": 19,
   "id": "35e594d4-fb9a-46c8-b384-91613a66099d",
   "metadata": {},
   "outputs": [
    {
     "data": {
      "text/plain": [
       "(250, 250, 3)"
      ]
     },
     "execution_count": 19,
     "metadata": {},
     "output_type": "execute_result"
    }
   ],
   "source": [
    "image.shape"
   ]
  },
  {
   "cell_type": "markdown",
   "id": "7ab90ca2-114a-4740-a881-f8feb8a6f549",
   "metadata": {},
   "source": [
    "250 x 250 pixel image with 3 color channels"
   ]
  },
  {
   "cell_type": "code",
   "execution_count": 20,
   "id": "49e7e826-6ca2-41f9-9f5b-039a33d8bd26",
   "metadata": {},
   "outputs": [
    {
     "data": {
      "image/png": "[encoded data removed]",
      "text/plain": [
       "<Figure size 640x480 with 1 Axes>"
      ]
     },
     "metadata": {},
     "output_type": "display_data"
    }
   ],
   "source": [
    "test_image = cv2.resize(image, (299, 299))\n",
    "plt.imshow(test_image)\n",
    "plt.axis()\n",
    "plt.show()"
   ]
  },
  {
   "cell_type": "code",
   "execution_count": 21,
   "id": "ac0f5af7-336c-487e-943b-ab2c58581852",
   "metadata": {},
   "outputs": [],
   "source": [
    "test_image = tf.expand_dims(test_image, axis=0)"
   ]
  },
  {
   "cell_type": "code",
   "execution_count": 22,
   "id": "040bc825-9c40-4a25-b25a-251e9ba24549",
   "metadata": {},
   "outputs": [
    {
     "data": {
      "text/plain": [
       "TensorShape([1, 299, 299, 3])"
      ]
     },
     "execution_count": 22,
     "metadata": {},
     "output_type": "execute_result"
    }
   ],
   "source": [
    "test_image.shape"
   ]
  },
  {
   "cell_type": "markdown",
   "id": "0b29dbd1-f3ac-48d7-a5f0-e5f7dd05bd46",
   "metadata": {},
   "source": [
    "## Model Architecture"
   ]
  },
  {
   "cell_type": "code",
   "execution_count": 23,
   "id": "14fe2c53-4af1-415b-bb49-744487779cd1",
   "metadata": {},
   "outputs": [],
   "source": [
    "inceptionv3 = InceptionV3()\n",
    "# inceptionv3.summary()"
   ]
  },
  {
   "cell_type": "code",
   "execution_count": 24,
   "id": "41d5ba25-0604-422c-8c08-ebfa2bfdec6c",
   "metadata": {},
   "outputs": [],
   "source": [
    "model = InceptionV3(include_top=False, classes=5749, pooling='avg', weights='imagenet')"
   ]
  },
  {
   "cell_type": "code",
   "execution_count": 25,
   "id": "c55ac6e6-aaf9-4900-a333-03fb57a36109",
   "metadata": {},
   "outputs": [],
   "source": [
    "# add avg_pool and predictions (k=5749) layers\n",
    "model = keras.Sequential(layers=(model, keras.layers.Dense(5749, activation='softmax')))"
   ]
  },
  {
   "cell_type": "code",
   "execution_count": 26,
   "id": "2951fb39-b400-4fb7-a54b-288ca46c5ddc",
   "metadata": {},
   "outputs": [
    {
     "data": {
      "text/plain": [
       "5046"
      ]
     },
     "execution_count": 26,
     "metadata": {},
     "output_type": "execute_result"
    }
   ],
   "source": [
    "np.argmax(model(test_image)[0])"
   ]
  },
  {
   "cell_type": "code",
   "execution_count": 27,
   "id": "17874079-550e-4ad0-9c4f-e9534093231f",
   "metadata": {},
   "outputs": [
    {
     "data": {
      "text/plain": [
       "<tf.Tensor: shape=(), dtype=float32, numpy=3.74202e-21>"
      ]
     },
     "execution_count": 27,
     "metadata": {},
     "output_type": "execute_result"
    }
   ],
   "source": [
    "model(test_image)[0][117]"
   ]
  },
  {
   "cell_type": "code",
   "execution_count": 28,
   "id": "71ca9e8f-d3a1-42ba-81ff-f22d4e642cc9",
   "metadata": {},
   "outputs": [
    {
     "data": {
      "text/html": [
       "<pre style=\"white-space:pre;overflow-x:auto;line-height:normal;font-family:Menlo,'DejaVu Sans Mono',consolas,'Courier New',monospace\"><span style=\"font-weight: bold\">Model: \"sequential\"</span>\n",
       "</pre>\n"
      ],
      "text/plain": [
       "\u001b[1mModel: \"sequential\"\u001b[0m\n"
      ]
     },
     "metadata": {},
     "output_type": "display_data"
    },
    {
     "data": {
      "text/html": [
       "<pre style=\"white-space:pre;overflow-x:auto;line-height:normal;font-family:Menlo,'DejaVu Sans Mono',consolas,'Courier New',monospace\">┏━━━━━━━━━━━━━━━━━━━━━━━━━━━━━━━━━┳━━━━━━━━━━━━━━━━━━━━━━━━┳━━━━━━━━━━━━━━━┓\n",
       "┃<span style=\"font-weight: bold\"> Layer (type)                    </span>┃<span style=\"font-weight: bold\"> Output Shape           </span>┃<span style=\"font-weight: bold\">       Param # </span>┃\n",
       "┡━━━━━━━━━━━━━━━━━━━━━━━━━━━━━━━━━╇━━━━━━━━━━━━━━━━━━━━━━━━╇━━━━━━━━━━━━━━━┩\n",
       "│ inception_v3 (<span style=\"color: #0087ff; text-decoration-color: #0087ff\">Functional</span>)       │ (<span style=\"color: #00af00; text-decoration-color: #00af00\">1</span>, <span style=\"color: #00af00; text-decoration-color: #00af00\">2048</span>)              │    <span style=\"color: #00af00; text-decoration-color: #00af00\">21,802,784</span> │\n",
       "├─────────────────────────────────┼────────────────────────┼───────────────┤\n",
       "│ dense (<span style=\"color: #0087ff; text-decoration-color: #0087ff\">Dense</span>)                   │ (<span style=\"color: #00af00; text-decoration-color: #00af00\">1</span>, <span style=\"color: #00af00; text-decoration-color: #00af00\">5749</span>)              │    <span style=\"color: #00af00; text-decoration-color: #00af00\">11,779,701</span> │\n",
       "└─────────────────────────────────┴────────────────────────┴───────────────┘\n",
       "</pre>\n"
      ],
      "text/plain": [
       "┏━━━━━━━━━━━━━━━━━━━━━━━━━━━━━━━━━┳━━━━━━━━━━━━━━━━━━━━━━━━┳━━━━━━━━━━━━━━━┓\n",
       "┃\u001b[1m \u001b[0m\u001b[1mLayer (type)                   \u001b[0m\u001b[1m \u001b[0m┃\u001b[1m \u001b[0m\u001b[1mOutput Shape          \u001b[0m\u001b[1m \u001b[0m┃\u001b[1m \u001b[0m\u001b[1m      Param #\u001b[0m\u001b[1m \u001b[0m┃\n",
       "┡━━━━━━━━━━━━━━━━━━━━━━━━━━━━━━━━━╇━━━━━━━━━━━━━━━━━━━━━━━━╇━━━━━━━━━━━━━━━┩\n",
       "│ inception_v3 (\u001b[38;5;33mFunctional\u001b[0m)       │ (\u001b[38;5;34m1\u001b[0m, \u001b[38;5;34m2048\u001b[0m)              │    \u001b[38;5;34m21,802,784\u001b[0m │\n",
       "├─────────────────────────────────┼────────────────────────┼───────────────┤\n",
       "│ dense (\u001b[38;5;33mDense\u001b[0m)                   │ (\u001b[38;5;34m1\u001b[0m, \u001b[38;5;34m5749\u001b[0m)              │    \u001b[38;5;34m11,779,701\u001b[0m │\n",
       "└─────────────────────────────────┴────────────────────────┴───────────────┘\n"
      ]
     },
     "metadata": {},
     "output_type": "display_data"
    },
    {
     "data": {
      "text/html": [
       "<pre style=\"white-space:pre;overflow-x:auto;line-height:normal;font-family:Menlo,'DejaVu Sans Mono',consolas,'Courier New',monospace\"><span style=\"font-weight: bold\"> Total params: </span><span style=\"color: #00af00; text-decoration-color: #00af00\">33,582,485</span> (128.11 MB)\n",
       "</pre>\n"
      ],
      "text/plain": [
       "\u001b[1m Total params: \u001b[0m\u001b[38;5;34m33,582,485\u001b[0m (128.11 MB)\n"
      ]
     },
     "metadata": {},
     "output_type": "display_data"
    },
    {
     "data": {
      "text/html": [
       "<pre style=\"white-space:pre;overflow-x:auto;line-height:normal;font-family:Menlo,'DejaVu Sans Mono',consolas,'Courier New',monospace\"><span style=\"font-weight: bold\"> Trainable params: </span><span style=\"color: #00af00; text-decoration-color: #00af00\">33,548,053</span> (127.98 MB)\n",
       "</pre>\n"
      ],
      "text/plain": [
       "\u001b[1m Trainable params: \u001b[0m\u001b[38;5;34m33,548,053\u001b[0m (127.98 MB)\n"
      ]
     },
     "metadata": {},
     "output_type": "display_data"
    },
    {
     "data": {
      "text/html": [
       "<pre style=\"white-space:pre;overflow-x:auto;line-height:normal;font-family:Menlo,'DejaVu Sans Mono',consolas,'Courier New',monospace\"><span style=\"font-weight: bold\"> Non-trainable params: </span><span style=\"color: #00af00; text-decoration-color: #00af00\">34,432</span> (134.50 KB)\n",
       "</pre>\n"
      ],
      "text/plain": [
       "\u001b[1m Non-trainable params: \u001b[0m\u001b[38;5;34m34,432\u001b[0m (134.50 KB)\n"
      ]
     },
     "metadata": {},
     "output_type": "display_data"
    }
   ],
   "source": [
    "model.summary()"
   ]
  },
  {
   "cell_type": "markdown",
   "id": "8d18c509-ca10-4c23-b2e4-e6aa7a0306d4",
   "metadata": {},
   "source": [
    "## Data Preparation"
   ]
  },
  {
   "cell_type": "code",
   "execution_count": 29,
   "id": "1aab37f9-4678-4296-9b22-3a3a9669888c",
   "metadata": {},
   "outputs": [],
   "source": [
    "people = people.rename(columns={'images': 'num_images'})"
   ]
  },
  {
   "cell_type": "code",
   "execution_count": 30,
   "id": "19a60b0f-37aa-472e-8278-a3e81f195864",
   "metadata": {},
   "outputs": [],
   "source": [
    "people = people.set_index('name')"
   ]
  },
  {
   "cell_type": "code",
   "execution_count": 31,
   "id": "d306e6f7-9cd3-4545-ab01-9582d775d6b1",
   "metadata": {},
   "outputs": [
    {
     "data": {
      "text/html": [
       "<div>\n",
       "<style scoped>\n",
       "    .dataframe tbody tr th:only-of-type {\n",
       "        vertical-align: middle;\n",
       "    }\n",
       "\n",
       "    .dataframe tbody tr th {\n",
       "        vertical-align: top;\n",
       "    }\n",
       "\n",
       "    .dataframe thead th {\n",
       "        text-align: right;\n",
       "    }\n",
       "</style>\n",
       "<table border=\"1\" class=\"dataframe\">\n",
       "  <thead>\n",
       "    <tr style=\"text-align: right;\">\n",
       "      <th></th>\n",
       "      <th>num_images</th>\n",
       "    </tr>\n",
       "    <tr>\n",
       "      <th>name</th>\n",
       "      <th></th>\n",
       "    </tr>\n",
       "  </thead>\n",
       "  <tbody>\n",
       "    <tr>\n",
       "      <th>Abdel_Madi_Shabneh</th>\n",
       "      <td>1.0</td>\n",
       "    </tr>\n",
       "    <tr>\n",
       "      <th>Abdul_Rahman</th>\n",
       "      <td>1.0</td>\n",
       "    </tr>\n",
       "    <tr>\n",
       "      <th>Abel_Pacheco</th>\n",
       "      <td>4.0</td>\n",
       "    </tr>\n",
       "    <tr>\n",
       "      <th>Adriana_Lima</th>\n",
       "      <td>1.0</td>\n",
       "    </tr>\n",
       "    <tr>\n",
       "      <th>Afton_Smith</th>\n",
       "      <td>1.0</td>\n",
       "    </tr>\n",
       "  </tbody>\n",
       "</table>\n",
       "</div>"
      ],
      "text/plain": [
       "                    num_images\n",
       "name                          \n",
       "Abdel_Madi_Shabneh         1.0\n",
       "Abdul_Rahman               1.0\n",
       "Abel_Pacheco               4.0\n",
       "Adriana_Lima               1.0\n",
       "Afton_Smith                1.0"
      ]
     },
     "execution_count": 31,
     "metadata": {},
     "output_type": "execute_result"
    }
   ],
   "source": [
    "people.head()"
   ]
  },
  {
   "cell_type": "code",
   "execution_count": 32,
   "id": "2bc65c59-4b89-4f85-9a89-36a61fe7fd1a",
   "metadata": {},
   "outputs": [
    {
     "data": {
      "text/html": [
       "<div>\n",
       "<style scoped>\n",
       "    .dataframe tbody tr th:only-of-type {\n",
       "        vertical-align: middle;\n",
       "    }\n",
       "\n",
       "    .dataframe tbody tr th {\n",
       "        vertical-align: top;\n",
       "    }\n",
       "\n",
       "    .dataframe thead th {\n",
       "        text-align: right;\n",
       "    }\n",
       "</style>\n",
       "<table border=\"1\" class=\"dataframe\">\n",
       "  <thead>\n",
       "    <tr style=\"text-align: right;\">\n",
       "      <th></th>\n",
       "      <th>num_images</th>\n",
       "    </tr>\n",
       "    <tr>\n",
       "      <th>name</th>\n",
       "      <th></th>\n",
       "    </tr>\n",
       "  </thead>\n",
       "  <tbody>\n",
       "    <tr>\n",
       "      <th>George_W_Bush</th>\n",
       "      <td>530.0</td>\n",
       "    </tr>\n",
       "  </tbody>\n",
       "</table>\n",
       "</div>"
      ],
      "text/plain": [
       "               num_images\n",
       "name                     \n",
       "George_W_Bush       530.0"
      ]
     },
     "execution_count": 32,
     "metadata": {},
     "output_type": "execute_result"
    }
   ],
   "source": [
    "people[people['num_images'] == people['num_images'].max()]"
   ]
  },
  {
   "cell_type": "code",
   "execution_count": 33,
   "id": "dea0b1ba-6c83-4803-a822-57b251356cb1",
   "metadata": {},
   "outputs": [
    {
     "data": {
      "text/plain": [
       "['Abdel_Madi_Shabneh',\n",
       " 'Abdul_Rahman',\n",
       " 'Abel_Pacheco',\n",
       " 'Adriana_Lima',\n",
       " 'Afton_Smith']"
      ]
     },
     "execution_count": 33,
     "metadata": {},
     "output_type": "execute_result"
    }
   ],
   "source": [
    "names[:5]"
   ]
  },
  {
   "cell_type": "code",
   "execution_count": 34,
   "id": "f74bdec9-565f-4c71-a07c-a6b09a56932d",
   "metadata": {},
   "outputs": [],
   "source": [
    "image_col = []\n",
    "for person in people.iterrows():\n",
    "    person = person[1]\n",
    "    image_list = []\n",
    "    for i in range(int(person[\"num_images\"])):\n",
    "        image_path = data_dir + '/' + person.name + '/' + person.name + '_' +  \"{:04d}\".format(i+1) + '.jpg'\n",
    "        image = cv2.imread(image_path)\n",
    "        image = cv2.resize(image, (299, 299))\n",
    "        #image = tf.expand_dims(image, axis=0)\n",
    "        image_list.append(image)\n",
    "    image_col.append(image_list)"
   ]
  },
  {
   "cell_type": "code",
   "execution_count": 35,
   "id": "d44377dd-55c8-4a56-9b82-7bdc8c4140c6",
   "metadata": {},
   "outputs": [],
   "source": [
    "people[\"images\"] = image_col"
   ]
  },
  {
   "cell_type": "code",
   "execution_count": 36,
   "id": "0bfb53b9-d6dd-473d-ae86-c04e0d893033",
   "metadata": {},
   "outputs": [],
   "source": [
    "# num_images == len(images) for each person\n",
    "assert ([len(x) for x in people[\"images\"]] == people[\"num_images\"].values).all()"
   ]
  },
  {
   "cell_type": "code",
   "execution_count": 37,
   "id": "23f29b36-7bae-4164-a740-9629c9962978",
   "metadata": {},
   "outputs": [],
   "source": [
    "dataset = [] # element: (image, person, train or test)\n",
    "for person in people.iterrows():\n",
    "    person = person[1]\n",
    "    image_list = person[\"images\"]\n",
    "    num_images = len(image_list)\n",
    "    for i in range(num_images):\n",
    "        image = image_list[i]\n",
    "        element = [image, person.name, \"train\" if i==0 else \"test\"]\n",
    "        dataset.append(element)\n",
    "dataset = pd.DataFrame(dataset, columns=[\"image\", \"person\", \"split\"])"
   ]
  },
  {
   "cell_type": "code",
   "execution_count": 38,
   "id": "993f60a9-6229-4cec-8f74-b275a65bc496",
   "metadata": {},
   "outputs": [],
   "source": [
    "dataset = pd.get_dummies(dataset, columns=['person'])"
   ]
  },
  {
   "cell_type": "code",
   "execution_count": 39,
   "id": "8f66101a-4600-49d2-9759-97afe109b6cb",
   "metadata": {},
   "outputs": [
    {
     "data": {
      "text/html": [
       "<div>\n",
       "<style scoped>\n",
       "    .dataframe tbody tr th:only-of-type {\n",
       "        vertical-align: middle;\n",
       "    }\n",
       "\n",
       "    .dataframe tbody tr th {\n",
       "        vertical-align: top;\n",
       "    }\n",
       "\n",
       "    .dataframe thead th {\n",
       "        text-align: right;\n",
       "    }\n",
       "</style>\n",
       "<table border=\"1\" class=\"dataframe\">\n",
       "  <thead>\n",
       "    <tr style=\"text-align: right;\">\n",
       "      <th></th>\n",
       "      <th>image</th>\n",
       "      <th>split</th>\n",
       "      <th>person_AJ_Cook</th>\n",
       "      <th>person_AJ_Lamas</th>\n",
       "      <th>person_Aaron_Eckhart</th>\n",
       "      <th>person_Aaron_Guiel</th>\n",
       "      <th>person_Aaron_Patterson</th>\n",
       "      <th>person_Aaron_Peirsol</th>\n",
       "      <th>person_Aaron_Pena</th>\n",
       "      <th>person_Aaron_Sorkin</th>\n",
       "      <th>...</th>\n",
       "      <th>person_Zico</th>\n",
       "      <th>person_Zinedine_Zidane</th>\n",
       "      <th>person_Ziwang_Xu</th>\n",
       "      <th>person_Zoe_Ball</th>\n",
       "      <th>person_Zoran_Djindjic</th>\n",
       "      <th>person_Zorica_Radovic</th>\n",
       "      <th>person_Zulfiqar_Ahmed</th>\n",
       "      <th>person_Zumrati_Juma</th>\n",
       "      <th>person_Zurab_Tsereteli</th>\n",
       "      <th>person_Zydrunas_Ilgauskas</th>\n",
       "    </tr>\n",
       "  </thead>\n",
       "  <tbody>\n",
       "    <tr>\n",
       "      <th>0</th>\n",
       "      <td>[[[2, 0, 1], [2, 0, 1], [2, 0, 1], [2, 0, 1], ...</td>\n",
       "      <td>train</td>\n",
       "      <td>False</td>\n",
       "      <td>False</td>\n",
       "      <td>False</td>\n",
       "      <td>False</td>\n",
       "      <td>False</td>\n",
       "      <td>False</td>\n",
       "      <td>False</td>\n",
       "      <td>False</td>\n",
       "      <td>...</td>\n",
       "      <td>False</td>\n",
       "      <td>False</td>\n",
       "      <td>False</td>\n",
       "      <td>False</td>\n",
       "      <td>False</td>\n",
       "      <td>False</td>\n",
       "      <td>False</td>\n",
       "      <td>False</td>\n",
       "      <td>False</td>\n",
       "      <td>False</td>\n",
       "    </tr>\n",
       "    <tr>\n",
       "      <th>1</th>\n",
       "      <td>[[[0, 0, 0], [0, 0, 0], [0, 0, 0], [0, 0, 0], ...</td>\n",
       "      <td>train</td>\n",
       "      <td>False</td>\n",
       "      <td>False</td>\n",
       "      <td>False</td>\n",
       "      <td>False</td>\n",
       "      <td>False</td>\n",
       "      <td>False</td>\n",
       "      <td>False</td>\n",
       "      <td>False</td>\n",
       "      <td>...</td>\n",
       "      <td>False</td>\n",
       "      <td>False</td>\n",
       "      <td>False</td>\n",
       "      <td>False</td>\n",
       "      <td>False</td>\n",
       "      <td>False</td>\n",
       "      <td>False</td>\n",
       "      <td>False</td>\n",
       "      <td>False</td>\n",
       "      <td>False</td>\n",
       "    </tr>\n",
       "    <tr>\n",
       "      <th>2</th>\n",
       "      <td>[[[0, 0, 0], [0, 0, 0], [0, 0, 0], [0, 0, 0], ...</td>\n",
       "      <td>train</td>\n",
       "      <td>False</td>\n",
       "      <td>False</td>\n",
       "      <td>False</td>\n",
       "      <td>False</td>\n",
       "      <td>False</td>\n",
       "      <td>False</td>\n",
       "      <td>False</td>\n",
       "      <td>False</td>\n",
       "      <td>...</td>\n",
       "      <td>False</td>\n",
       "      <td>False</td>\n",
       "      <td>False</td>\n",
       "      <td>False</td>\n",
       "      <td>False</td>\n",
       "      <td>False</td>\n",
       "      <td>False</td>\n",
       "      <td>False</td>\n",
       "      <td>False</td>\n",
       "      <td>False</td>\n",
       "    </tr>\n",
       "    <tr>\n",
       "      <th>3</th>\n",
       "      <td>[[[0, 0, 0], [0, 0, 0], [0, 0, 0], [0, 0, 0], ...</td>\n",
       "      <td>test</td>\n",
       "      <td>False</td>\n",
       "      <td>False</td>\n",
       "      <td>False</td>\n",
       "      <td>False</td>\n",
       "      <td>False</td>\n",
       "      <td>False</td>\n",
       "      <td>False</td>\n",
       "      <td>False</td>\n",
       "      <td>...</td>\n",
       "      <td>False</td>\n",
       "      <td>False</td>\n",
       "      <td>False</td>\n",
       "      <td>False</td>\n",
       "      <td>False</td>\n",
       "      <td>False</td>\n",
       "      <td>False</td>\n",
       "      <td>False</td>\n",
       "      <td>False</td>\n",
       "      <td>False</td>\n",
       "    </tr>\n",
       "    <tr>\n",
       "      <th>4</th>\n",
       "      <td>[[[11, 1, 7], [4, 0, 4], [1, 6, 9], [1, 6, 10]...</td>\n",
       "      <td>test</td>\n",
       "      <td>False</td>\n",
       "      <td>False</td>\n",
       "      <td>False</td>\n",
       "      <td>False</td>\n",
       "      <td>False</td>\n",
       "      <td>False</td>\n",
       "      <td>False</td>\n",
       "      <td>False</td>\n",
       "      <td>...</td>\n",
       "      <td>False</td>\n",
       "      <td>False</td>\n",
       "      <td>False</td>\n",
       "      <td>False</td>\n",
       "      <td>False</td>\n",
       "      <td>False</td>\n",
       "      <td>False</td>\n",
       "      <td>False</td>\n",
       "      <td>False</td>\n",
       "      <td>False</td>\n",
       "    </tr>\n",
       "  </tbody>\n",
       "</table>\n",
       "<p>5 rows × 5751 columns</p>\n",
       "</div>"
      ],
      "text/plain": [
       "                                               image  split  person_AJ_Cook  \\\n",
       "0  [[[2, 0, 1], [2, 0, 1], [2, 0, 1], [2, 0, 1], ...  train           False   \n",
       "1  [[[0, 0, 0], [0, 0, 0], [0, 0, 0], [0, 0, 0], ...  train           False   \n",
       "2  [[[0, 0, 0], [0, 0, 0], [0, 0, 0], [0, 0, 0], ...  train           False   \n",
       "3  [[[0, 0, 0], [0, 0, 0], [0, 0, 0], [0, 0, 0], ...   test           False   \n",
       "4  [[[11, 1, 7], [4, 0, 4], [1, 6, 9], [1, 6, 10]...   test           False   \n",
       "\n",
       "   person_AJ_Lamas  person_Aaron_Eckhart  person_Aaron_Guiel  \\\n",
       "0            False                 False               False   \n",
       "1            False                 False               False   \n",
       "2            False                 False               False   \n",
       "3            False                 False               False   \n",
       "4            False                 False               False   \n",
       "\n",
       "   person_Aaron_Patterson  person_Aaron_Peirsol  person_Aaron_Pena  \\\n",
       "0                   False                 False              False   \n",
       "1                   False                 False              False   \n",
       "2                   False                 False              False   \n",
       "3                   False                 False              False   \n",
       "4                   False                 False              False   \n",
       "\n",
       "   person_Aaron_Sorkin  ...  person_Zico  person_Zinedine_Zidane  \\\n",
       "0                False  ...        False                   False   \n",
       "1                False  ...        False                   False   \n",
       "2                False  ...        False                   False   \n",
       "3                False  ...        False                   False   \n",
       "4                False  ...        False                   False   \n",
       "\n",
       "   person_Ziwang_Xu  person_Zoe_Ball  person_Zoran_Djindjic  \\\n",
       "0             False            False                  False   \n",
       "1             False            False                  False   \n",
       "2             False            False                  False   \n",
       "3             False            False                  False   \n",
       "4             False            False                  False   \n",
       "\n",
       "   person_Zorica_Radovic  person_Zulfiqar_Ahmed  person_Zumrati_Juma  \\\n",
       "0                  False                  False                False   \n",
       "1                  False                  False                False   \n",
       "2                  False                  False                False   \n",
       "3                  False                  False                False   \n",
       "4                  False                  False                False   \n",
       "\n",
       "   person_Zurab_Tsereteli  person_Zydrunas_Ilgauskas  \n",
       "0                   False                      False  \n",
       "1                   False                      False  \n",
       "2                   False                      False  \n",
       "3                   False                      False  \n",
       "4                   False                      False  \n",
       "\n",
       "[5 rows x 5751 columns]"
      ]
     },
     "execution_count": 39,
     "metadata": {},
     "output_type": "execute_result"
    }
   ],
   "source": [
    "dataset.head()"
   ]
  },
  {
   "cell_type": "markdown",
   "id": "c6cdd7b2-4182-4408-86cb-648b3037eae4",
   "metadata": {},
   "source": [
    "## Model Training on LFW Dataset"
   ]
  },
  {
   "cell_type": "markdown",
   "id": "a09f55fd-eb7c-4258-8af3-51e24db69a2f",
   "metadata": {},
   "source": [
    "<img src=\"fig2.png\" alt=\"drawing\" width=\"600\"/><br>\n",
    "1. Train model using only 1 image of each person.\n",
    "2. Use remaining images as test dataset, get results."
   ]
  },
  {
   "cell_type": "code",
   "execution_count": 40,
   "id": "4f049e8a-8b3d-482a-bb78-c80eb6fcbacd",
   "metadata": {},
   "outputs": [],
   "source": [
    "X_train = dataset[dataset[\"split\"] == \"train\"][\"image\"].tolist()\n",
    "X_train = np.asarray(X_train).astype('float32')\n",
    "X_test = dataset[dataset[\"split\"] == \"test\"][\"image\"].tolist()\n",
    "X_test = np.asarray(X_test).astype('float32')"
   ]
  },
  {
   "cell_type": "code",
   "execution_count": 41,
   "id": "8a7072a7-68f2-490b-a637-3cfee4c3f9dd",
   "metadata": {},
   "outputs": [],
   "source": [
    "y_train = dataset[dataset[\"split\"] == \"train\"].drop(['image', 'split'], axis=1)\n",
    "y_test = dataset[dataset[\"split\"] == \"test\"].drop(['image', 'split'], axis=1)"
   ]
  },
  {
   "cell_type": "code",
   "execution_count": 42,
   "id": "0b3eee95-5a07-4979-8134-921fb5d2dc1b",
   "metadata": {},
   "outputs": [],
   "source": [
    "model.compile(loss=\"categorical_crossentropy\", optimizer= \"adam\", metrics=['accuracy'])"
   ]
  },
  {
   "cell_type": "code",
   "execution_count": 43,
   "id": "8c04df68-2bbe-4ed3-aa59-1ddc6d25991d",
   "metadata": {},
   "outputs": [
    {
     "name": "stdout",
     "output_type": "stream",
     "text": [
      "Epoch 1/10\n",
      "\u001b[1m180/180\u001b[0m \u001b[32m━━━━━━━━━━━━━━━━━━━━\u001b[0m\u001b[37m\u001b[0m \u001b[1m1233s\u001b[0m 7s/step - accuracy: 0.0000e+00 - loss: 8.7398\n",
      "Epoch 2/10\n",
      "\u001b[1m180/180\u001b[0m \u001b[32m━━━━━━━━━━━━━━━━━━━━\u001b[0m\u001b[37m\u001b[0m \u001b[1m1384s\u001b[0m 8s/step - accuracy: 7.3870e-04 - loss: 8.2548\n",
      "Epoch 3/10\n",
      "\u001b[1m180/180\u001b[0m \u001b[32m━━━━━━━━━━━━━━━━━━━━\u001b[0m\u001b[37m\u001b[0m \u001b[1m4401s\u001b[0m 25s/step - accuracy: 0.0000e+00 - loss: 8.4024\n",
      "Epoch 4/10\n",
      "\u001b[1m180/180\u001b[0m \u001b[32m━━━━━━━━━━━━━━━━━━━━\u001b[0m\u001b[37m\u001b[0m \u001b[1m2578s\u001b[0m 14s/step - accuracy: 0.0000e+00 - loss: 8.3766\n",
      "Epoch 5/10\n",
      "\u001b[1m180/180\u001b[0m \u001b[32m━━━━━━━━━━━━━━━━━━━━\u001b[0m\u001b[37m\u001b[0m \u001b[1m1612s\u001b[0m 9s/step - accuracy: 5.5001e-04 - loss: 8.3509\n",
      "Epoch 6/10\n",
      "\u001b[1m180/180\u001b[0m \u001b[32m━━━━━━━━━━━━━━━━━━━━\u001b[0m\u001b[37m\u001b[0m \u001b[1m3831s\u001b[0m 21s/step - accuracy: 0.0000e+00 - loss: 8.3440\n",
      "Epoch 7/10\n",
      "\u001b[1m180/180\u001b[0m \u001b[32m━━━━━━━━━━━━━━━━━━━━\u001b[0m\u001b[37m\u001b[0m \u001b[1m4041s\u001b[0m 23s/step - accuracy: 0.0000e+00 - loss: 8.4918\n",
      "Epoch 8/10\n",
      "\u001b[1m180/180\u001b[0m \u001b[32m━━━━━━━━━━━━━━━━━━━━\u001b[0m\u001b[37m\u001b[0m \u001b[1m7166s\u001b[0m 40s/step - accuracy: 0.0011 - loss: 8.3991\n",
      "Epoch 9/10\n",
      "\u001b[1m180/180\u001b[0m \u001b[32m━━━━━━━━━━━━━━━━━━━━\u001b[0m\u001b[37m\u001b[0m \u001b[1m1219s\u001b[0m 7s/step - accuracy: 1.6327e-04 - loss: 8.2311\n",
      "Epoch 10/10\n",
      "\u001b[1m180/180\u001b[0m \u001b[32m━━━━━━━━━━━━━━━━━━━━\u001b[0m\u001b[37m\u001b[0m \u001b[1m1257s\u001b[0m 7s/step - accuracy: 5.0472e-05 - loss: 7.9106\n"
     ]
    },
    {
     "data": {
      "text/plain": [
       "<keras.src.callbacks.history.History at 0x31745d8d0>"
      ]
     },
     "execution_count": 43,
     "metadata": {},
     "output_type": "execute_result"
    }
   ],
   "source": [
    "model.fit(X_train, y_train, shuffle=False, epochs=10)"
   ]
  },
  {
   "cell_type": "code",
   "execution_count": 44,
   "id": "4311a231-7078-4d88-ad31-2ecee28f35dd",
   "metadata": {},
   "outputs": [],
   "source": [
    "p = model(tf.expand_dims(X_train[0], axis=0))"
   ]
  },
  {
   "cell_type": "code",
   "execution_count": 45,
   "id": "9ec5c9ff-d609-4c37-a433-bd321bdc9d9b",
   "metadata": {},
   "outputs": [
    {
     "data": {
      "text/plain": [
       "1482"
      ]
     },
     "execution_count": 45,
     "metadata": {},
     "output_type": "execute_result"
    }
   ],
   "source": [
    "np.argmax(p)"
   ]
  },
  {
   "cell_type": "code",
   "execution_count": 46,
   "id": "0cb99148-c87a-4f21-bcbc-50a2f4720a27",
   "metadata": {},
   "outputs": [
    {
     "data": {
      "text/plain": [
       "12"
      ]
     },
     "execution_count": 46,
     "metadata": {},
     "output_type": "execute_result"
    }
   ],
   "source": [
    "np.argmax(y_train.iloc[0])"
   ]
  },
  {
   "cell_type": "code",
   "execution_count": 47,
   "id": "ddc42815-0cbf-4563-bee5-b898b892c447",
   "metadata": {},
   "outputs": [],
   "source": [
    "p = model(tf.expand_dims(X_test[0], axis=0))"
   ]
  },
  {
   "cell_type": "code",
   "execution_count": 48,
   "id": "487919bd-3670-4363-9ec9-4c7a72efce4e",
   "metadata": {},
   "outputs": [
    {
     "data": {
      "text/plain": [
       "2754"
      ]
     },
     "execution_count": 48,
     "metadata": {},
     "output_type": "execute_result"
    }
   ],
   "source": [
    "np.argmax(p)"
   ]
  },
  {
   "cell_type": "code",
   "execution_count": 49,
   "id": "db7c04f7-cbb9-45e9-aabd-4f68a21181e6",
   "metadata": {},
   "outputs": [
    {
     "data": {
      "text/plain": [
       "25"
      ]
     },
     "execution_count": 49,
     "metadata": {},
     "output_type": "execute_result"
    }
   ],
   "source": [
    "np.argmax(y_test.iloc[0])"
   ]
  },
  {
   "cell_type": "markdown",
   "id": "9c2bc254-98c8-4a6c-87bf-b4e758abe254",
   "metadata": {},
   "source": [
    "Sparsity of data... let's train the model using only samples with num_images > N."
   ]
  }
 ],
 "metadata": {
  "kernelspec": {
   "display_name": "Python 3 (ipykernel)",
   "language": "python",
   "name": "python3"
  },
  "language_info": {
   "codemirror_mode": {
    "name": "ipython",
    "version": 3
   },
   "file_extension": ".py",
   "mimetype": "text/x-python",
   "name": "python",
   "nbconvert_exporter": "python",
   "pygments_lexer": "ipython3",
   "version": "3.11.4"
  }
 },
 "nbformat": 4,
 "nbformat_minor": 5
}
