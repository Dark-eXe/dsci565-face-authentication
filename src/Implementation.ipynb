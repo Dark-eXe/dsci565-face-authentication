{
 "cells": [
  {
   "cell_type": "markdown",
   "id": "888d86a8-c405-4dd7-8df4-04e0a17d19ad",
   "metadata": {},
   "source": [
    "# Implementation"
   ]
  },
  {
   "cell_type": "markdown",
   "id": "0cb91642-573b-485f-90b7-651ad6e54174",
   "metadata": {},
   "source": [
    "## Imports"
   ]
  },
  {
   "cell_type": "code",
   "execution_count": 1,
   "id": "92d84613-7e94-4d40-83ce-363e29e21243",
   "metadata": {},
   "outputs": [],
   "source": [
    "import numpy as np\n",
    "import pandas as pd\n",
    "from matplotlib import pyplot as plt\n",
    "import os"
   ]
  },
  {
   "cell_type": "code",
   "execution_count": 2,
   "id": "76879048-70ca-480c-83aa-cb8360fe6f5e",
   "metadata": {},
   "outputs": [],
   "source": [
    "plt.style.use('dark_background')"
   ]
  },
  {
   "cell_type": "code",
   "execution_count": 3,
   "id": "167413a6-9f69-4fe9-9835-f524454df439",
   "metadata": {},
   "outputs": [],
   "source": [
    "import sklearn\n",
    "import keras\n",
    "import tensorflow as tf"
   ]
  },
  {
   "cell_type": "code",
   "execution_count": 4,
   "id": "28cc94ce-9f52-45b2-b961-be5837c85728",
   "metadata": {},
   "outputs": [],
   "source": [
    "from keras.applications import InceptionV3"
   ]
  },
  {
   "cell_type": "code",
   "execution_count": 5,
   "id": "edd533c3-091d-48f4-abe4-42b469f23a61",
   "metadata": {},
   "outputs": [],
   "source": [
    "import cv2"
   ]
  },
  {
   "cell_type": "code",
   "execution_count": 6,
   "id": "75ff0636-a20a-414a-b5a8-8658f7622c82",
   "metadata": {},
   "outputs": [],
   "source": [
    "path = os.getcwd()\n",
    "path = path[:-4]\n",
    "data_dir = path + \"/data/lfw-deepfunneled\""
   ]
  },
  {
   "cell_type": "code",
   "execution_count": 7,
   "id": "cba05fa2-182d-4cbe-88e8-ae22d52d547f",
   "metadata": {},
   "outputs": [
    {
     "name": "stdout",
     "output_type": "stream",
     "text": [
      "k = 143 classes\n"
     ]
    }
   ],
   "source": [
    "people = pd.read_csv(path + \"/data/people.csv\")\n",
    "people = pd.read_csv(path + \"/data/people.csv\")\n",
    "names = [item for item in people[\"name\"].tolist() if item in os.listdir(data_dir)]\n",
    "people = people[people[\"name\"].isin(names)]\n",
    "N = 10\n",
    "people = people[people.images > N]\n",
    "k = len(people)\n",
    "print(f\"k = {k} classes\")"
   ]
  },
  {
   "cell_type": "code",
   "execution_count": 8,
   "id": "32335ed5-8ba5-4fe1-9708-628f06deb184",
   "metadata": {},
   "outputs": [],
   "source": [
    "inceptionv3 = InceptionV3()\n",
    "model = InceptionV3(include_top=False, classes=k, pooling='avg', weights='imagenet')\n",
    "model = keras.Sequential(layers=(model, keras.layers.Dense(k, activation='softmax')))"
   ]
  },
  {
   "cell_type": "markdown",
   "id": "8d18c509-ca10-4c23-b2e4-e6aa7a0306d4",
   "metadata": {},
   "source": [
    "## Data Preparation"
   ]
  },
  {
   "cell_type": "code",
   "execution_count": 9,
   "id": "1aab37f9-4678-4296-9b22-3a3a9669888c",
   "metadata": {},
   "outputs": [],
   "source": [
    "people = people.rename(columns={'images': 'num_images'})"
   ]
  },
  {
   "cell_type": "code",
   "execution_count": 10,
   "id": "19a60b0f-37aa-472e-8278-a3e81f195864",
   "metadata": {},
   "outputs": [],
   "source": [
    "people = people.set_index('name')"
   ]
  },
  {
   "cell_type": "code",
   "execution_count": 11,
   "id": "f74bdec9-565f-4c71-a07c-a6b09a56932d",
   "metadata": {},
   "outputs": [],
   "source": [
    "image_col = []\n",
    "for person in people.iterrows():\n",
    "    person = person[1]\n",
    "    image_list = []\n",
    "    for i in range(int(person[\"num_images\"])):\n",
    "        image_path = data_dir + '/' + person.name + '/' + person.name + '_' +  \"{:04d}\".format(i+1) + '.jpg'\n",
    "        image = cv2.imread(image_path)\n",
    "        image = cv2.resize(image, (299, 299))\n",
    "        #image = tf.expand_dims(image, axis=0)\n",
    "        image_list.append(image)\n",
    "    image_col.append(image_list)"
   ]
  },
  {
   "cell_type": "code",
   "execution_count": 12,
   "id": "d44377dd-55c8-4a56-9b82-7bdc8c4140c6",
   "metadata": {},
   "outputs": [],
   "source": [
    "people[\"images\"] = image_col"
   ]
  },
  {
   "cell_type": "code",
   "execution_count": 13,
   "id": "0bfb53b9-d6dd-473d-ae86-c04e0d893033",
   "metadata": {},
   "outputs": [],
   "source": [
    "# num_images == len(images) for each person\n",
    "assert ([len(x) for x in people[\"images\"]] == people[\"num_images\"].values).all()"
   ]
  },
  {
   "cell_type": "code",
   "execution_count": 14,
   "id": "23f29b36-7bae-4164-a740-9629c9962978",
   "metadata": {},
   "outputs": [],
   "source": [
    "dataset = [] # element: (image, person, train or test)\n",
    "for person in people.iterrows():\n",
    "    person = person[1]\n",
    "    image_list = person[\"images\"]\n",
    "    num_images = len(image_list)\n",
    "    for i in range(num_images):\n",
    "        image = image_list[i]\n",
    "        element = [image, person.name, \"test\" if i>N-2 else \"train\"]\n",
    "        dataset.append(element)\n",
    "dataset = pd.DataFrame(dataset, columns=[\"image\", \"person\", \"split\"])"
   ]
  },
  {
   "cell_type": "code",
   "execution_count": 15,
   "id": "993f60a9-6229-4cec-8f74-b275a65bc496",
   "metadata": {},
   "outputs": [],
   "source": [
    "dataset = pd.get_dummies(dataset, columns=['person'])"
   ]
  },
  {
   "cell_type": "code",
   "execution_count": 16,
   "id": "8f66101a-4600-49d2-9759-97afe109b6cb",
   "metadata": {},
   "outputs": [
    {
     "data": {
      "text/html": [
       "<div>\n",
       "<style scoped>\n",
       "    .dataframe tbody tr th:only-of-type {\n",
       "        vertical-align: middle;\n",
       "    }\n",
       "\n",
       "    .dataframe tbody tr th {\n",
       "        vertical-align: top;\n",
       "    }\n",
       "\n",
       "    .dataframe thead th {\n",
       "        text-align: right;\n",
       "    }\n",
       "</style>\n",
       "<table border=\"1\" class=\"dataframe\">\n",
       "  <thead>\n",
       "    <tr style=\"text-align: right;\">\n",
       "      <th></th>\n",
       "      <th>image</th>\n",
       "      <th>split</th>\n",
       "      <th>person_Abdullah_Gul</th>\n",
       "      <th>person_Adrien_Brody</th>\n",
       "      <th>person_Alejandro_Toledo</th>\n",
       "      <th>person_Alvaro_Uribe</th>\n",
       "      <th>person_Amelie_Mauresmo</th>\n",
       "      <th>person_Andre_Agassi</th>\n",
       "      <th>person_Andy_Roddick</th>\n",
       "      <th>person_Angelina_Jolie</th>\n",
       "      <th>...</th>\n",
       "      <th>person_Tom_Ridge</th>\n",
       "      <th>person_Tommy_Franks</th>\n",
       "      <th>person_Tony_Blair</th>\n",
       "      <th>person_Trent_Lott</th>\n",
       "      <th>person_Venus_Williams</th>\n",
       "      <th>person_Vicente_Fox</th>\n",
       "      <th>person_Vladimir_Putin</th>\n",
       "      <th>person_Wen_Jiabao</th>\n",
       "      <th>person_Winona_Ryder</th>\n",
       "      <th>person_Yoriko_Kawaguchi</th>\n",
       "    </tr>\n",
       "  </thead>\n",
       "  <tbody>\n",
       "    <tr>\n",
       "      <th>0</th>\n",
       "      <td>[[[0, 1, 0], [0, 1, 0], [0, 1, 0], [0, 1, 0], ...</td>\n",
       "      <td>train</td>\n",
       "      <td>False</td>\n",
       "      <td>False</td>\n",
       "      <td>False</td>\n",
       "      <td>False</td>\n",
       "      <td>False</td>\n",
       "      <td>False</td>\n",
       "      <td>False</td>\n",
       "      <td>False</td>\n",
       "      <td>...</td>\n",
       "      <td>False</td>\n",
       "      <td>False</td>\n",
       "      <td>False</td>\n",
       "      <td>False</td>\n",
       "      <td>False</td>\n",
       "      <td>False</td>\n",
       "      <td>False</td>\n",
       "      <td>False</td>\n",
       "      <td>False</td>\n",
       "      <td>False</td>\n",
       "    </tr>\n",
       "    <tr>\n",
       "      <th>1</th>\n",
       "      <td>[[[0, 1, 1], [0, 1, 1], [0, 1, 1], [0, 1, 1], ...</td>\n",
       "      <td>train</td>\n",
       "      <td>False</td>\n",
       "      <td>False</td>\n",
       "      <td>False</td>\n",
       "      <td>False</td>\n",
       "      <td>False</td>\n",
       "      <td>False</td>\n",
       "      <td>False</td>\n",
       "      <td>False</td>\n",
       "      <td>...</td>\n",
       "      <td>False</td>\n",
       "      <td>False</td>\n",
       "      <td>False</td>\n",
       "      <td>False</td>\n",
       "      <td>False</td>\n",
       "      <td>False</td>\n",
       "      <td>False</td>\n",
       "      <td>False</td>\n",
       "      <td>False</td>\n",
       "      <td>False</td>\n",
       "    </tr>\n",
       "    <tr>\n",
       "      <th>2</th>\n",
       "      <td>[[[0, 0, 0], [0, 0, 0], [1, 0, 0], [2, 0, 0], ...</td>\n",
       "      <td>train</td>\n",
       "      <td>False</td>\n",
       "      <td>False</td>\n",
       "      <td>False</td>\n",
       "      <td>False</td>\n",
       "      <td>False</td>\n",
       "      <td>False</td>\n",
       "      <td>False</td>\n",
       "      <td>False</td>\n",
       "      <td>...</td>\n",
       "      <td>False</td>\n",
       "      <td>False</td>\n",
       "      <td>False</td>\n",
       "      <td>False</td>\n",
       "      <td>False</td>\n",
       "      <td>False</td>\n",
       "      <td>False</td>\n",
       "      <td>False</td>\n",
       "      <td>False</td>\n",
       "      <td>False</td>\n",
       "    </tr>\n",
       "    <tr>\n",
       "      <th>3</th>\n",
       "      <td>[[[0, 0, 0], [0, 0, 0], [0, 0, 0], [0, 0, 0], ...</td>\n",
       "      <td>train</td>\n",
       "      <td>False</td>\n",
       "      <td>False</td>\n",
       "      <td>False</td>\n",
       "      <td>False</td>\n",
       "      <td>False</td>\n",
       "      <td>False</td>\n",
       "      <td>False</td>\n",
       "      <td>False</td>\n",
       "      <td>...</td>\n",
       "      <td>False</td>\n",
       "      <td>False</td>\n",
       "      <td>False</td>\n",
       "      <td>False</td>\n",
       "      <td>False</td>\n",
       "      <td>False</td>\n",
       "      <td>False</td>\n",
       "      <td>False</td>\n",
       "      <td>False</td>\n",
       "      <td>False</td>\n",
       "    </tr>\n",
       "    <tr>\n",
       "      <th>4</th>\n",
       "      <td>[[[129, 163, 176], [129, 163, 176], [129, 163,...</td>\n",
       "      <td>train</td>\n",
       "      <td>False</td>\n",
       "      <td>False</td>\n",
       "      <td>False</td>\n",
       "      <td>False</td>\n",
       "      <td>False</td>\n",
       "      <td>False</td>\n",
       "      <td>False</td>\n",
       "      <td>False</td>\n",
       "      <td>...</td>\n",
       "      <td>False</td>\n",
       "      <td>False</td>\n",
       "      <td>False</td>\n",
       "      <td>False</td>\n",
       "      <td>False</td>\n",
       "      <td>False</td>\n",
       "      <td>False</td>\n",
       "      <td>False</td>\n",
       "      <td>False</td>\n",
       "      <td>False</td>\n",
       "    </tr>\n",
       "  </tbody>\n",
       "</table>\n",
       "<p>5 rows × 145 columns</p>\n",
       "</div>"
      ],
      "text/plain": [
       "                                               image  split  \\\n",
       "0  [[[0, 1, 0], [0, 1, 0], [0, 1, 0], [0, 1, 0], ...  train   \n",
       "1  [[[0, 1, 1], [0, 1, 1], [0, 1, 1], [0, 1, 1], ...  train   \n",
       "2  [[[0, 0, 0], [0, 0, 0], [1, 0, 0], [2, 0, 0], ...  train   \n",
       "3  [[[0, 0, 0], [0, 0, 0], [0, 0, 0], [0, 0, 0], ...  train   \n",
       "4  [[[129, 163, 176], [129, 163, 176], [129, 163,...  train   \n",
       "\n",
       "   person_Abdullah_Gul  person_Adrien_Brody  person_Alejandro_Toledo  \\\n",
       "0                False                False                    False   \n",
       "1                False                False                    False   \n",
       "2                False                False                    False   \n",
       "3                False                False                    False   \n",
       "4                False                False                    False   \n",
       "\n",
       "   person_Alvaro_Uribe  person_Amelie_Mauresmo  person_Andre_Agassi  \\\n",
       "0                False                   False                False   \n",
       "1                False                   False                False   \n",
       "2                False                   False                False   \n",
       "3                False                   False                False   \n",
       "4                False                   False                False   \n",
       "\n",
       "   person_Andy_Roddick  person_Angelina_Jolie  ...  person_Tom_Ridge  \\\n",
       "0                False                  False  ...             False   \n",
       "1                False                  False  ...             False   \n",
       "2                False                  False  ...             False   \n",
       "3                False                  False  ...             False   \n",
       "4                False                  False  ...             False   \n",
       "\n",
       "   person_Tommy_Franks  person_Tony_Blair  person_Trent_Lott  \\\n",
       "0                False              False              False   \n",
       "1                False              False              False   \n",
       "2                False              False              False   \n",
       "3                False              False              False   \n",
       "4                False              False              False   \n",
       "\n",
       "   person_Venus_Williams  person_Vicente_Fox  person_Vladimir_Putin  \\\n",
       "0                  False               False                  False   \n",
       "1                  False               False                  False   \n",
       "2                  False               False                  False   \n",
       "3                  False               False                  False   \n",
       "4                  False               False                  False   \n",
       "\n",
       "   person_Wen_Jiabao  person_Winona_Ryder  person_Yoriko_Kawaguchi  \n",
       "0              False                False                    False  \n",
       "1              False                False                    False  \n",
       "2              False                False                    False  \n",
       "3              False                False                    False  \n",
       "4              False                False                    False  \n",
       "\n",
       "[5 rows x 145 columns]"
      ]
     },
     "execution_count": 16,
     "metadata": {},
     "output_type": "execute_result"
    }
   ],
   "source": [
    "dataset.head()"
   ]
  },
  {
   "cell_type": "markdown",
   "id": "c6cdd7b2-4182-4408-86cb-648b3037eae4",
   "metadata": {},
   "source": [
    "## Model Training on LFW Dataset"
   ]
  },
  {
   "cell_type": "markdown",
   "id": "a09f55fd-eb7c-4258-8af3-51e24db69a2f",
   "metadata": {},
   "source": [
    "<img src=\"fig2.png\" alt=\"drawing\" width=\"600\"/><br>\n",
    "1. Train model using N-1 images of each person.\n",
    "2. Use remaining images as test dataset, get results."
   ]
  },
  {
   "cell_type": "code",
   "execution_count": 17,
   "id": "4f049e8a-8b3d-482a-bb78-c80eb6fcbacd",
   "metadata": {},
   "outputs": [],
   "source": [
    "X_train = dataset[dataset[\"split\"] == \"train\"][\"image\"].tolist()\n",
    "X_train = np.asarray(X_train).astype('float32')\n",
    "X_test = dataset[dataset[\"split\"] == \"test\"][\"image\"].tolist()\n",
    "X_test = np.asarray(X_test).astype('float32')"
   ]
  },
  {
   "cell_type": "code",
   "execution_count": 18,
   "id": "8a7072a7-68f2-490b-a637-3cfee4c3f9dd",
   "metadata": {},
   "outputs": [],
   "source": [
    "y_train = dataset[dataset[\"split\"] == \"train\"].drop(['image', 'split'], axis=1)\n",
    "y_test = dataset[dataset[\"split\"] == \"test\"].drop(['image', 'split'], axis=1)"
   ]
  },
  {
   "cell_type": "code",
   "execution_count": 19,
   "id": "0b3eee95-5a07-4979-8134-921fb5d2dc1b",
   "metadata": {},
   "outputs": [],
   "source": [
    "model.compile(loss=\"categorical_crossentropy\", optimizer=keras.optimizers.Adam(learning_rate=1e-4), metrics=['accuracy'])"
   ]
  },
  {
   "cell_type": "code",
   "execution_count": 20,
   "id": "8c04df68-2bbe-4ed3-aa59-1ddc6d25991d",
   "metadata": {},
   "outputs": [
    {
     "name": "stdout",
     "output_type": "stream",
     "text": [
      "Epoch 1/10\n",
      "\u001b[1m41/41\u001b[0m \u001b[32m━━━━━━━━━━━━━━━━━━━━\u001b[0m\u001b[37m\u001b[0m \u001b[1m290s\u001b[0m 7s/step - accuracy: 0.0285 - loss: 4.9700\n",
      "Epoch 2/10\n",
      "\u001b[1m41/41\u001b[0m \u001b[32m━━━━━━━━━━━━━━━━━━━━\u001b[0m\u001b[37m\u001b[0m \u001b[1m293s\u001b[0m 7s/step - accuracy: 0.7763 - loss: 3.1722\n",
      "Epoch 3/10\n",
      "\u001b[1m41/41\u001b[0m \u001b[32m━━━━━━━━━━━━━━━━━━━━\u001b[0m\u001b[37m\u001b[0m \u001b[1m309s\u001b[0m 8s/step - accuracy: 0.9829 - loss: 1.6962\n",
      "Epoch 4/10\n",
      "\u001b[1m41/41\u001b[0m \u001b[32m━━━━━━━━━━━━━━━━━━━━\u001b[0m\u001b[37m\u001b[0m \u001b[1m317s\u001b[0m 8s/step - accuracy: 0.9973 - loss: 0.7308\n",
      "Epoch 5/10\n",
      "\u001b[1m41/41\u001b[0m \u001b[32m━━━━━━━━━━━━━━━━━━━━\u001b[0m\u001b[37m\u001b[0m \u001b[1m315s\u001b[0m 8s/step - accuracy: 1.0000 - loss: 0.2784\n",
      "Epoch 6/10\n",
      "\u001b[1m41/41\u001b[0m \u001b[32m━━━━━━━━━━━━━━━━━━━━\u001b[0m\u001b[37m\u001b[0m \u001b[1m313s\u001b[0m 8s/step - accuracy: 1.0000 - loss: 0.1290\n",
      "Epoch 7/10\n",
      "\u001b[1m41/41\u001b[0m \u001b[32m━━━━━━━━━━━━━━━━━━━━\u001b[0m\u001b[37m\u001b[0m \u001b[1m314s\u001b[0m 8s/step - accuracy: 1.0000 - loss: 0.0769\n",
      "Epoch 8/10\n",
      "\u001b[1m41/41\u001b[0m \u001b[32m━━━━━━━━━━━━━━━━━━━━\u001b[0m\u001b[37m\u001b[0m \u001b[1m310s\u001b[0m 8s/step - accuracy: 1.0000 - loss: 0.0548\n",
      "Epoch 9/10\n",
      "\u001b[1m41/41\u001b[0m \u001b[32m━━━━━━━━━━━━━━━━━━━━\u001b[0m\u001b[37m\u001b[0m \u001b[1m310s\u001b[0m 8s/step - accuracy: 0.9978 - loss: 0.0538\n",
      "Epoch 10/10\n",
      "\u001b[1m41/41\u001b[0m \u001b[32m━━━━━━━━━━━━━━━━━━━━\u001b[0m\u001b[37m\u001b[0m \u001b[1m308s\u001b[0m 8s/step - accuracy: 1.0000 - loss: 0.0376\n"
     ]
    },
    {
     "data": {
      "text/plain": [
       "<keras.src.callbacks.history.History at 0x30c6bdd90>"
      ]
     },
     "execution_count": 20,
     "metadata": {},
     "output_type": "execute_result"
    }
   ],
   "source": [
    "model.fit(X_train, y_train, shuffle=True, epochs=10)"
   ]
  },
  {
   "cell_type": "code",
   "execution_count": 21,
   "id": "4311a231-7078-4d88-ad31-2ecee28f35dd",
   "metadata": {},
   "outputs": [],
   "source": [
    "p = model(tf.expand_dims(X_train[0], axis=0))"
   ]
  },
  {
   "cell_type": "code",
   "execution_count": 22,
   "id": "9ec5c9ff-d609-4c37-a433-bd321bdc9d9b",
   "metadata": {},
   "outputs": [
    {
     "data": {
      "text/plain": [
       "8"
      ]
     },
     "execution_count": 22,
     "metadata": {},
     "output_type": "execute_result"
    }
   ],
   "source": [
    "np.argmax(p)"
   ]
  },
  {
   "cell_type": "code",
   "execution_count": 23,
   "id": "0cb99148-c87a-4f21-bcbc-50a2f4720a27",
   "metadata": {},
   "outputs": [
    {
     "data": {
      "text/plain": [
       "8"
      ]
     },
     "execution_count": 23,
     "metadata": {},
     "output_type": "execute_result"
    }
   ],
   "source": [
    "np.argmax(y_train.iloc[0])"
   ]
  },
  {
   "cell_type": "code",
   "execution_count": 24,
   "id": "ddc42815-0cbf-4563-bee5-b898b892c447",
   "metadata": {},
   "outputs": [],
   "source": [
    "p = model(tf.expand_dims(X_test[0], axis=0))"
   ]
  },
  {
   "cell_type": "code",
   "execution_count": 25,
   "id": "487919bd-3670-4363-9ec9-4c7a72efce4e",
   "metadata": {},
   "outputs": [
    {
     "data": {
      "text/plain": [
       "8"
      ]
     },
     "execution_count": 25,
     "metadata": {},
     "output_type": "execute_result"
    }
   ],
   "source": [
    "np.argmax(p)"
   ]
  },
  {
   "cell_type": "code",
   "execution_count": 26,
   "id": "db7c04f7-cbb9-45e9-aabd-4f68a21181e6",
   "metadata": {},
   "outputs": [
    {
     "data": {
      "text/plain": [
       "8"
      ]
     },
     "execution_count": 26,
     "metadata": {},
     "output_type": "execute_result"
    }
   ],
   "source": [
    "np.argmax(y_test.iloc[0])"
   ]
  },
  {
   "cell_type": "code",
   "execution_count": 27,
   "id": "37b444aa-ee05-4b6f-b830-ae173c94d467",
   "metadata": {},
   "outputs": [
    {
     "name": "stdout",
     "output_type": "stream",
     "text": [
      "\u001b[1m91/91\u001b[0m \u001b[32m━━━━━━━━━━━━━━━━━━━━\u001b[0m\u001b[37m\u001b[0m \u001b[1m145s\u001b[0m 2s/step - accuracy: 0.4937 - loss: 2.3526\n"
     ]
    },
    {
     "data": {
      "text/plain": [
       "[2.4133005142211914, 0.46553516387939453]"
      ]
     },
     "execution_count": 27,
     "metadata": {},
     "output_type": "execute_result"
    }
   ],
   "source": [
    "model.evaluate(X_test, y_test)"
   ]
  },
  {
   "cell_type": "markdown",
   "id": "803aad75-0f2a-46a4-a208-ef3eee275cba",
   "metadata": {},
   "source": [
    "## Conclusion\n",
    "For $k=143$ classes, each with at least $N=10$ image samples, and leave-one-out test split schema, yield overfitted $100\\%$ train accuracy and $46\\%$ test accuracy."
   ]
  }
 ],
 "metadata": {
  "kernelspec": {
   "display_name": "Python 3 (ipykernel)",
   "language": "python",
   "name": "python3"
  },
  "language_info": {
   "codemirror_mode": {
    "name": "ipython",
    "version": 3
   },
   "file_extension": ".py",
   "mimetype": "text/x-python",
   "name": "python",
   "nbconvert_exporter": "python",
   "pygments_lexer": "ipython3",
   "version": "3.11.4"
  }
 },
 "nbformat": 4,
 "nbformat_minor": 5
}
